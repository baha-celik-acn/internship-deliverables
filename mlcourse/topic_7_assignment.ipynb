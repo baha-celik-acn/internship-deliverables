{
 "cells": [
  {
   "cell_type": "markdown",
   "metadata": {
    "_uuid": "8ccb4ff4aaeaae5004d2203e0149a7c416bd7c4b"
   },
   "source": [
    "<center>\n",
    "<img src=\"https://habrastorage.org/webt/ia/m9/zk/iam9zkyzqebnf_okxipihkgjwnw.jpeg\">\n",
    "    \n",
    "## <center> [mlcourse.ai](https://mlcourse.ai) – Open Machine Learning Course\n",
    "Authors: [Olga Daykhovskaya](https://www.linkedin.com/in/odaykhovskaya/), [Yury Kashnitsky](https://yorko.github.io/). All content is distributed under the [Creative Commons CC BY-NC-SA 4.0](https://creativecommons.org/licenses/by-nc-sa/4.0/) license. Free use is permitted for any non-commercial purpose."
   ]
  },
  {
   "cell_type": "markdown",
   "metadata": {
    "_uuid": "fb758fbaa68c09ce13b31fd6982499c2212de2a1"
   },
   "source": [
    "# <center>Assignment #7 (demo)\n",
    "## <center> Unsupervised learning"
   ]
  },
  {
   "cell_type": "markdown",
   "metadata": {
    "_uuid": "19ed99767bc346b8cabd9c285c46d78341b68ac0"
   },
   "source": [
    "In this task, we will look at how data dimensionality reduction and clustering methods work. At the same time, we'll practice solving classification task again.\n",
    "\n",
    "We will work with the [Samsung Human Activity Recognition](https://archive.ics.uci.edu/ml/datasets/Human+Activity+Recognition+Using+Smartphones) dataset. Download the data [here](https://drive.google.com/file/d/14RukQ0ylM2GCdViUHBBjZ2imCaYcjlux/view?usp=sharing). The data comes from accelerometers and gyros of Samsung Galaxy S3 mobile phones ( you can find more info about the features using the link above), the type of activity of a person with a phone in his/her pocket is also known – whether he/she walked, stood, lay, sat or walked up or down the stairs.\n",
    "\n",
    "First, we pretend that the type of activity is unknown to us, and we will try to cluster people purely on the basis of available features. Then we solve the problem of determining the type of physical activity as a classification problem.\n",
    "\n",
    "Fill the code where needed (\"Your code is here\") and answer the questions in the [web form](https://docs.google.com/forms/d/1wBf5UoRndv6PpzIwYnM9f0ysoGa4Yqcqle-HBlBP5QQ/edit)."
   ]
  },
  {
   "cell_type": "code",
   "execution_count": 1,
   "metadata": {
    "_uuid": "49d35cc6431c8053964544de63bb91e638db1fa9",
    "trusted": true
   },
   "outputs": [],
   "source": [
    "import os\n",
    "import numpy as np\n",
    "import pandas as pd\n",
    "import seaborn as sns\n",
    "from tqdm import tqdm_notebook\n",
    "\n",
    "%matplotlib inline\n",
    "from matplotlib import pyplot as plt\n",
    "import matplotlib.patches as mpatches\n",
    "\n",
    "plt.rcParams['figure.figsize'] = (12, 9)\n",
    "plt.rcParams['font.family'] = 'DejaVu Sans'\n",
    "\n",
    "from sklearn import metrics\n",
    "from sklearn.cluster import KMeans, AgglomerativeClustering, SpectralClustering\n",
    "from sklearn.decomposition import PCA\n",
    "from sklearn.model_selection import GridSearchCV\n",
    "from sklearn.preprocessing import StandardScaler\n",
    "from sklearn.svm import LinearSVC\n",
    "\n",
    "RANDOM_STATE = 17"
   ]
  },
  {
   "cell_type": "code",
   "execution_count": 2,
   "metadata": {
    "_uuid": "5a288069f3a890d7a37113ef2800e8a7b1dd1afb",
    "trusted": true
   },
   "outputs": [],
   "source": [
    "# change this if necessary\n",
    "PATH_TO_SAMSUNG_DATA = \"data/\""
   ]
  },
  {
   "cell_type": "code",
   "execution_count": 3,
   "metadata": {
    "_uuid": "75b935cdfe1e013aae43db776e8db37a20e2ac6b",
    "trusted": true
   },
   "outputs": [],
   "source": [
    "X_train = np.loadtxt(os.path.join(PATH_TO_SAMSUNG_DATA, \"samsung_train.txt\"))\n",
    "y_train = np.loadtxt(os.path.join(PATH_TO_SAMSUNG_DATA,\n",
    "                                  \"samsung_train_labels.txt\")).astype(int)\n",
    "\n",
    "X_test = np.loadtxt(os.path.join(PATH_TO_SAMSUNG_DATA, \"samsung_test.txt\"))\n",
    "y_test = np.loadtxt(os.path.join(PATH_TO_SAMSUNG_DATA,\n",
    "                                  \"samsung_test_labels.txt\")).astype(int)"
   ]
  },
  {
   "cell_type": "code",
   "execution_count": 4,
   "metadata": {
    "_uuid": "98b267f6cfd624a0458dabdde5525b27970978bc",
    "trusted": true
   },
   "outputs": [],
   "source": [
    "# Checking dimensions\n",
    "assert(X_train.shape == (7352, 561) and y_train.shape == (7352,))\n",
    "assert(X_test.shape == (2947, 561) and y_test.shape == (2947,))"
   ]
  },
  {
   "cell_type": "markdown",
   "metadata": {
    "_uuid": "6ae636fe849d7d67db976feaa7ca2e25ba7c3795"
   },
   "source": [
    "For clustering, we do not need a target vector, so we'll work with the combination of training and test samples. Merge `X_train` with `X_test`, and `y_train` with `y_test`."
   ]
  },
  {
   "cell_type": "code",
   "execution_count": 5,
   "metadata": {
    "_uuid": "e57109377ec2f6c93542f038ccf57fc751f06812",
    "trusted": true
   },
   "outputs": [],
   "source": [
    "X = np.concatenate((X_train, X_test), axis=0)\n",
    "y = np.concatenate((y_train, y_test), axis=0)"
   ]
  },
  {
   "cell_type": "code",
   "execution_count": 6,
   "metadata": {},
   "outputs": [
    {
     "data": {
      "text/plain": [
       "(10299, 561)"
      ]
     },
     "execution_count": 6,
     "metadata": {},
     "output_type": "execute_result"
    }
   ],
   "source": [
    "X.shape"
   ]
  },
  {
   "cell_type": "code",
   "execution_count": 7,
   "metadata": {},
   "outputs": [
    {
     "data": {
      "text/plain": [
       "(10299,)"
      ]
     },
     "execution_count": 7,
     "metadata": {},
     "output_type": "execute_result"
    }
   ],
   "source": [
    "y.shape"
   ]
  },
  {
   "cell_type": "markdown",
   "metadata": {
    "_uuid": "77c4ccbe64c015a09874cff61bf751b0e7917ef4"
   },
   "source": [
    "Define the number of unique values of the labels of the target class."
   ]
  },
  {
   "cell_type": "code",
   "execution_count": 8,
   "metadata": {
    "_uuid": "5a92a3783a446acf928972d3ec418f29a0cff6e0",
    "trusted": true
   },
   "outputs": [
    {
     "data": {
      "text/plain": [
       "array([1, 2, 3, 4, 5, 6])"
      ]
     },
     "execution_count": 8,
     "metadata": {},
     "output_type": "execute_result"
    }
   ],
   "source": [
    "np.unique(y)"
   ]
  },
  {
   "cell_type": "code",
   "execution_count": 9,
   "metadata": {
    "_uuid": "e29b5a97cba7305053fbe12985eb3abaf012eeb0",
    "trusted": true
   },
   "outputs": [],
   "source": [
    "n_classes = np.unique(y).size"
   ]
  },
  {
   "cell_type": "markdown",
   "metadata": {
    "_uuid": "3c878aa4cc63242a33b9d030efba7623bd8a5d2c"
   },
   "source": [
    "[These labels correspond to:](https://archive.ics.uci.edu/ml/machine-learning-databases/00240/UCI%20HAR%20Dataset.names)\n",
    "- 1 – walking\n",
    "- 2 – walking upstairs\n",
    "- 3 – walking downstairs\n",
    "- 4 – sitting\n",
    "- 5 – standing\n",
    "- 6 – laying down"
   ]
  },
  {
   "cell_type": "markdown",
   "metadata": {
    "_uuid": "f2037a9432194f9a3d2f390ca2ad49a1ac1a6192"
   },
   "source": [
    "Scale the sample using `StandardScaler` with default parameters."
   ]
  },
  {
   "cell_type": "code",
   "execution_count": 10,
   "metadata": {
    "_uuid": "70461dfacab8bd090d951e6114beaa40aa293919",
    "trusted": true
   },
   "outputs": [],
   "source": [
    "Scaler = StandardScaler()\n",
    "X_scaled = Scaler.fit_transform(X)"
   ]
  },
  {
   "cell_type": "code",
   "execution_count": 11,
   "metadata": {},
   "outputs": [
    {
     "data": {
      "text/plain": [
       "array([ 0.28858451, -0.02029417, -0.13290514, -0.9952786 , -0.98311061,\n",
       "       -0.91352645, -0.99511208, -0.98318457, -0.92352702, -0.93472378,\n",
       "       -0.56737807, -0.74441253,  0.85294738,  0.68584458,  0.81426278,\n",
       "       -0.96552279, -0.99994465, -0.99986303, -0.99461218, -0.99423081,\n",
       "       -0.98761392, -0.94321999, -0.40774707, -0.67933751, -0.60212187,\n",
       "        0.92929351, -0.85301114,  0.35990976, -0.05852638,  0.25689154,\n",
       "       -0.22484763,  0.26410572, -0.09524563,  0.27885143, -0.46508457,\n",
       "        0.49193596, -0.19088356,  0.37631389,  0.43512919,  0.66079033,\n",
       "        0.96339614, -0.14083968,  0.11537494, -0.98524969, -0.98170843,\n",
       "       -0.87762497, -0.98500137, -0.98441622, -0.89467735,  0.89205451,\n",
       "       -0.16126549,  0.12465977,  0.97743631, -0.12321341,  0.05648273,\n",
       "       -0.37542596,  0.89946864, -0.97090521, -0.97551037, -0.98432539,\n",
       "       -0.98884915, -0.91774264, -1.        , -1.        ,  0.11380614,\n",
       "       -0.590425  ,  0.5911463 , -0.59177346,  0.59246928, -0.74544878,\n",
       "        0.72086167, -0.71237239,  0.71130003, -0.99511159,  0.99567491,\n",
       "       -0.99566759,  0.99165268,  0.57022164,  0.43902735,  0.98691312,\n",
       "        0.07799634,  0.0050008 , -0.06783081, -0.99351906, -0.98835999,\n",
       "       -0.99357497, -0.99448763, -0.98620664, -0.99281835, -0.9851801 ,\n",
       "       -0.99199423, -0.99311887,  0.98983471,  0.99195686,  0.9905192 ,\n",
       "       -0.99352201, -0.99993487, -0.99982045, -0.99987846, -0.99436404,\n",
       "       -0.98602487, -0.98923361, -0.81994925, -0.79304645, -0.88885295,\n",
       "        1.        , -0.22074703,  0.63683075,  0.38764356,  0.24140146,\n",
       "       -0.05225285,  0.2641772 ,  0.37343945,  0.34177752, -0.56979119,\n",
       "        0.26539882, -0.47787489, -0.3853005 ,  0.03364394, -0.12651082,\n",
       "       -0.00610085, -0.03136479,  0.1077254 , -0.98531027, -0.97662344,\n",
       "       -0.99220528, -0.98458626, -0.97635262, -0.99236164, -0.86704374,\n",
       "       -0.93378602, -0.74756618,  0.84730796,  0.91489534,  0.83084054,\n",
       "       -0.96718428, -0.99957831, -0.99935432, -0.99976339, -0.98343808,\n",
       "       -0.97861401, -0.99296558,  0.08263168,  0.20226765, -0.16875669,\n",
       "        0.09632324, -0.27498511,  0.49864419, -0.22031685,  1.        ,\n",
       "       -0.97297139,  0.31665451,  0.37572641,  0.72339919, -0.77111201,\n",
       "        0.69021323, -0.33183104,  0.70958377,  0.13487336,  0.30109948,\n",
       "       -0.0991674 , -0.05551737, -0.0619858 , -0.99211067, -0.99251927,\n",
       "       -0.99205528, -0.99216475, -0.99494156, -0.99261905, -0.99015585,\n",
       "       -0.98674277, -0.99204155,  0.99442876,  0.99175581,  0.98935195,\n",
       "       -0.99445335, -0.99993755, -0.9999535 , -0.99992294, -0.99229974,\n",
       "       -0.99693892, -0.99224298, -0.58985096, -0.68845905, -0.57210686,\n",
       "        0.29237634, -0.36199802,  0.40554269, -0.03900695,  0.98928381,\n",
       "       -0.41456048,  0.39160251,  0.28225087,  0.92726984, -0.57237001,\n",
       "        0.6916192 ,  0.46828982, -0.13107697, -0.08715969,  0.33624748,\n",
       "       -0.95943388, -0.9505515 , -0.95799295, -0.94630524, -0.99255572,\n",
       "       -0.95943388, -0.99849285, -0.9576374 , -0.23258164, -0.17317874,\n",
       "       -0.02289666,  0.09483157,  0.19181715, -0.95943388, -0.9505515 ,\n",
       "       -0.95799295, -0.94630524, -0.99255572, -0.95943388, -0.99849285,\n",
       "       -0.9576374 , -0.23258164, -0.17317874, -0.02289666,  0.09483157,\n",
       "        0.19181715, -0.99330586, -0.99433641, -0.99450037, -0.99278399,\n",
       "       -0.99120847, -0.99330586, -0.99989188, -0.9929337 , -0.86341476,\n",
       "        0.28308522, -0.23730869, -0.10543219, -0.03821231, -0.96895908,\n",
       "       -0.96433518, -0.95724477, -0.97505986, -0.99155366, -0.96895908,\n",
       "       -0.99928646, -0.94976582,  0.07257904,  0.57251142, -0.73860219,\n",
       "        0.21257776,  0.43340495, -0.99424782, -0.99136761, -0.99314298,\n",
       "       -0.98893563, -0.99348603, -0.99424782, -0.99994898, -0.99454718,\n",
       "       -0.61976763,  0.29284049, -0.1768892 , -0.14577921, -0.12407233,\n",
       "       -0.99478319, -0.9829841 , -0.93926865, -0.99542175, -0.98313297,\n",
       "       -0.90616498, -0.99688864, -0.98451927, -0.932082  , -0.99375634,\n",
       "       -0.98316285, -0.88505422, -0.99396185, -0.99344611, -0.92342772,\n",
       "       -0.97473271, -0.99996838, -0.99968911, -0.99489148, -0.99592602,\n",
       "       -0.98970889, -0.98799115, -0.94635692, -0.90474776, -0.59130248,\n",
       "       -1.        , -1.        , -1.        ,  0.2524829 ,  0.13183575,\n",
       "       -0.05205025,  0.14205056, -0.1506825 , -0.22054694, -0.55873853,\n",
       "        0.24676868, -0.00741552, -0.99996279, -0.9999865 , -0.99997907,\n",
       "       -0.99996244, -0.99993222, -0.99972512, -0.99967039, -0.99998582,\n",
       "       -0.99996867, -0.99997686, -0.99986966, -0.99977613, -0.99997115,\n",
       "       -0.99991925, -0.9996568 , -0.99986046, -0.99986695, -0.99986301,\n",
       "       -0.99973783, -0.9997322 , -0.99949261, -0.99981364, -0.99968182,\n",
       "       -0.9998394 , -0.99973823, -0.99961197, -0.99968721, -0.99983863,\n",
       "       -0.99359234, -0.99947584, -0.99966204, -0.9996423 , -0.99929341,\n",
       "       -0.99789222, -0.99593249, -0.99514642, -0.9947399 , -0.99968826,\n",
       "       -0.99892456, -0.99567134, -0.99487731, -0.99945439, -0.99233245,\n",
       "       -0.98716991, -0.98969609, -0.99582068, -0.99093631, -0.99705167,\n",
       "       -0.99380547, -0.99051869, -0.99699279, -0.99673689, -0.99197516,\n",
       "       -0.99324167, -0.99834907, -0.99110842, -0.95988537, -0.99051499,\n",
       "       -0.99993475, -0.99982048, -0.99988449, -0.99302626, -0.99137339,\n",
       "       -0.99623962, -1.        , -1.        , -1.        ,  1.        ,\n",
       "       -0.24      , -1.        ,  0.87038451,  0.210697  ,  0.26370789,\n",
       "       -0.70368577, -0.90374251, -0.58257362, -0.93631005, -0.50734474,\n",
       "       -0.80553591, -0.99998649, -0.9999796 , -0.99997478, -0.99995513,\n",
       "       -0.99991861, -0.99964011, -0.9994833 , -0.99996087, -0.99998227,\n",
       "       -0.99997072, -0.99981098, -0.99948472, -0.99998083, -0.99985189,\n",
       "       -0.99993261, -0.99989993, -0.99982444, -0.99985982, -0.99972751,\n",
       "       -0.99972876, -0.99956707, -0.99976524, -0.99990021, -0.9998149 ,\n",
       "       -0.9997098 , -0.99959608, -0.99985216, -0.9998221 , -0.99939988,\n",
       "       -0.99976559, -0.99995846, -0.99994951, -0.9998385 , -0.99981351,\n",
       "       -0.99878054, -0.99857783, -0.99961968, -0.99998359, -0.99982812,\n",
       "       -0.99868068, -0.99984416, -0.99992792, -0.98657442, -0.98176153,\n",
       "       -0.98951478, -0.98503264, -0.97388607, -0.99403493, -0.98653085,\n",
       "       -0.98361636, -0.99235201, -0.98049843, -0.97227092, -0.99494426,\n",
       "       -0.99756862, -0.9840851 , -0.99433541, -0.98527621, -0.99986371,\n",
       "       -0.99966608, -0.99993462, -0.99034389, -0.99483569, -0.99441158,\n",
       "       -0.71240225, -0.64484236, -0.83899298, -1.        , -1.        ,\n",
       "       -1.        , -0.25754888,  0.09794711,  0.54715105,  0.37731121,\n",
       "        0.13409154,  0.27337197, -0.09126183, -0.4843465 , -0.7828507 ,\n",
       "       -0.99986502, -0.99993178, -0.99997295, -0.99997018, -0.99993012,\n",
       "       -0.99995862, -0.99992899, -0.99998465, -0.99986326, -0.99996815,\n",
       "       -0.9999361 , -0.99995363, -0.99986442, -0.99996098, -0.99945373,\n",
       "       -0.99997811, -0.99999153, -0.9999901 , -0.99996857, -0.99980657,\n",
       "       -0.998346  , -0.99896122, -0.99961874, -0.99998934, -0.9999354 ,\n",
       "       -0.99838752, -0.99964264, -0.99997266, -0.99995535, -0.9999763 ,\n",
       "       -0.99990583, -0.9999855 , -0.99993717, -0.99975115, -0.99907227,\n",
       "       -0.99992754, -0.99995158, -0.99990585, -0.99989269, -0.99944433,\n",
       "       -0.99994099, -0.99995861, -0.95215466, -0.95613397, -0.94887014,\n",
       "       -0.97432057, -0.92572179, -0.95215466, -0.9982852 , -0.9732732 ,\n",
       "       -0.64637645, -0.79310345, -0.08843612, -0.43647104, -0.79684048,\n",
       "       -0.99372565, -0.99375495, -0.9919757 , -0.99336472, -0.98817543,\n",
       "       -0.99372565, -0.99991844, -0.99136366, -1.        , -0.93650794,\n",
       "        0.34698853, -0.51608015, -0.80276003, -0.98013485, -0.96130944,\n",
       "       -0.97365344, -0.95226383, -0.98949813, -0.98013485, -0.99924035,\n",
       "       -0.99265553, -0.70129141, -1.        , -0.1289889 ,  0.58615643,\n",
       "        0.37460462, -0.99199044, -0.99069746, -0.98994084, -0.99244784,\n",
       "       -0.99104773, -0.99199044, -0.99993676, -0.99045792, -0.8713058 ,\n",
       "       -1.        , -0.07432303, -0.29867637, -0.71030407, -0.11275434,\n",
       "        0.03040037, -0.46476139, -0.01844588, -0.84124676,  0.17994061,\n",
       "       -0.05862692])"
      ]
     },
     "execution_count": 11,
     "metadata": {},
     "output_type": "execute_result"
    }
   ],
   "source": [
    "X[0]"
   ]
  },
  {
   "cell_type": "code",
   "execution_count": 12,
   "metadata": {},
   "outputs": [
    {
     "data": {
      "text/plain": [
       "array([ 2.10533854e-01, -6.87026385e-02, -4.52194533e-01, -8.83334952e-01,\n",
       "       -9.45431019e-01, -7.44387061e-01, -8.74687009e-01, -9.44877387e-01,\n",
       "       -7.73250012e-01, -8.68773407e-01, -9.36732207e-01, -6.43808669e-01,\n",
       "        9.18870626e-01,  8.74509561e-01,  7.44117174e-01, -8.96138925e-01,\n",
       "       -7.06303043e-01, -7.71212980e-01, -6.79412197e-01, -8.49321254e-01,\n",
       "       -9.32913685e-01, -8.13160345e-01, -6.64979115e-01, -1.26957643e+00,\n",
       "       -1.20694919e+00,  3.40664789e+00, -3.89104249e+00,  1.59643332e+00,\n",
       "       -7.78021787e-01,  1.12623059e+00, -1.20063024e+00,  5.22059668e-01,\n",
       "       -3.50375436e-01,  9.68168917e-01, -2.33383182e+00,  1.93171298e+00,\n",
       "       -4.68569445e-01,  1.38853396e+00,  1.94678499e+00,  1.48549515e+00,\n",
       "        5.70693143e-01, -3.82375248e-01,  6.94803477e-02, -2.57911609e-01,\n",
       "       -3.20117372e-01,  6.03407675e-01, -2.49148830e-01, -3.44950062e-01,\n",
       "        4.52949800e-01,  5.56008303e-01, -4.11666026e-01,  8.47113392e-02,\n",
       "        5.79208405e-01, -3.71483634e-01, -6.79106475e-02, -7.06355785e-01,\n",
       "        6.50844882e-01, -5.48949502e-01, -4.99694817e-01, -2.24086884e-01,\n",
       "       -3.74991717e-01,  2.81465163e-01, -9.00840268e-01, -4.73658108e-01,\n",
       "        1.99144045e+00, -3.97411653e-01,  2.30048264e-01, -5.33899875e-02,\n",
       "       -1.20294178e-01, -1.37015745e+00,  1.30656503e+00, -1.20760541e+00,\n",
       "        1.07032862e+00, -2.11382720e+00,  2.09060972e+00, -2.04296375e+00,\n",
       "        1.96942884e+00,  5.66627798e-01,  7.77539531e-01,  1.28659513e+00,\n",
       "       -5.34784862e-03, -1.79156078e-02, -4.04921059e-01, -8.65537035e-01,\n",
       "       -8.78772267e-01, -8.30387837e-01, -8.64723862e-01, -8.79060088e-01,\n",
       "       -8.33184992e-01, -7.93535177e-01, -8.31453787e-01, -7.78617638e-01,\n",
       "        8.58325640e-01,  8.55343727e-01,  8.18840423e-01, -8.82452927e-01,\n",
       "       -6.96545136e-01, -7.10062812e-01, -5.86537156e-01, -8.53978940e-01,\n",
       "       -8.69755240e-01, -8.20186104e-01, -1.12979490e+00, -1.11560795e+00,\n",
       "       -1.25367728e+00,  3.65184638e+00, -2.02902908e+00,  2.35761862e+00,\n",
       "        1.33284518e+00,  1.17136434e+00, -5.55192361e-01,  3.77034171e-01,\n",
       "        2.91926430e-01,  1.37793389e+00, -3.34978898e+00,  1.18853421e+00,\n",
       "       -2.57263408e+00, -9.59329695e-01,  1.04476612e-01, -7.46159961e-01,\n",
       "        1.35833713e-01,  3.22794262e-01,  1.43607039e-01, -8.77431033e-01,\n",
       "       -8.23751596e-01, -9.08616526e-01, -8.67187170e-01, -8.18311454e-01,\n",
       "       -8.98766042e-01, -8.01538890e-01, -7.35739738e-01, -8.68912691e-01,\n",
       "        8.56126775e-01,  8.53684410e-01,  8.82001974e-01, -9.06361735e-01,\n",
       "       -6.86412954e-01, -6.05071818e-01, -6.66590252e-01, -8.41246205e-01,\n",
       "       -8.03699099e-01, -8.62256562e-01,  5.00667618e-01,  8.13822698e-01,\n",
       "       -2.31351451e-01,  1.15444887e+00, -1.86227897e+00,  1.61411690e+00,\n",
       "       -5.81464857e-01,  5.77447143e+00, -5.96218790e+00,  1.57215973e+00,\n",
       "        1.07709536e+00,  2.58479429e+00, -2.96840725e+00,  2.60828281e+00,\n",
       "       -1.85151876e+00,  2.29977288e+00,  3.11875466e-01,  9.74153285e-01,\n",
       "       -1.91848026e-02, -1.15374504e-01, -5.55162021e-02, -8.58331635e-01,\n",
       "       -7.57077748e-01, -8.34900621e-01, -8.55215908e-01, -7.69704888e-01,\n",
       "       -8.39778184e-01, -8.34861668e-01, -6.98228231e-01, -8.15300754e-01,\n",
       "        8.36635916e-01,  7.08369547e-01,  7.66221573e-01, -8.45474810e-01,\n",
       "       -6.24074368e-01, -4.57177596e-01, -5.99560557e-01, -8.43895401e-01,\n",
       "       -7.76827350e-01, -8.32231856e-01, -1.01741145e+00, -1.29916672e+00,\n",
       "       -9.59164300e-01,  1.45818466e+00, -2.16973874e+00,  1.16236179e+00,\n",
       "       -9.65060783e-01,  5.37288561e+00, -3.68010574e+00,  1.56306585e+00,\n",
       "        8.24393141e-01,  2.78524780e+00, -2.68901947e+00,  2.44665912e+00,\n",
       "        1.75497513e+00, -6.07415593e-01, -5.11148995e-01,  1.73355062e+00,\n",
       "       -8.80406113e-01, -8.36789449e-01, -8.41681754e-01, -8.40542672e-01,\n",
       "       -8.13263358e-01, -8.80406113e-01, -7.88521527e-01, -8.11704095e-01,\n",
       "       -5.45905943e-01, -3.56856134e-01, -1.99983837e-01,  1.43155923e-01,\n",
       "        9.49083389e-01, -8.80406113e-01, -8.36789449e-01, -8.41681754e-01,\n",
       "       -8.40542672e-01, -8.13263358e-01, -8.80406113e-01, -7.88521527e-01,\n",
       "       -8.11704095e-01, -5.45905943e-01, -3.56856134e-01, -1.99983837e-01,\n",
       "        1.43155923e-01,  9.49083389e-01, -8.82951789e-01, -8.78649376e-01,\n",
       "       -8.74306087e-01, -8.77569620e-01, -7.96340660e-01, -8.82951789e-01,\n",
       "       -7.22860044e-01, -8.56150537e-01, -1.10761564e+00,  8.38768284e-01,\n",
       "       -8.51596664e-01, -5.91994397e-02,  1.33162689e-02, -9.09981168e-01,\n",
       "       -8.64248305e-01, -8.58224358e-01, -8.77464420e-01, -8.36585954e-01,\n",
       "       -9.09981168e-01, -7.44556460e-01, -8.22600882e-01, -3.37950624e-01,\n",
       "        2.00829556e+00, -2.50844160e+00,  4.17342849e-01,  1.94502832e+00,\n",
       "       -8.39454987e-01, -7.85686685e-01, -8.00004096e-01, -7.62686370e-01,\n",
       "       -7.69305130e-01, -8.39454987e-01, -5.62222804e-01, -8.12726344e-01,\n",
       "       -1.08381687e+00,  2.65304386e-02,  2.39307375e-01, -3.86244783e-01,\n",
       "       -6.93339940e-02, -8.84135812e-01, -9.24910182e-01, -7.64236037e-01,\n",
       "       -8.77553291e-01, -9.47512737e-01, -7.22615391e-01, -8.88044299e-01,\n",
       "       -9.31085167e-01, -7.69569501e-01, -8.44136428e-01, -9.19145323e-01,\n",
       "       -6.39851780e-01, -6.07608418e-01, -6.29909419e-01, -7.45306479e-02,\n",
       "       -8.89323491e-01, -7.04693805e-01, -7.88422318e-01, -6.84557515e-01,\n",
       "       -8.60482146e-01, -8.69015822e-01, -8.30766663e-01, -1.03201845e+00,\n",
       "       -1.08218812e+00, -6.32480398e-01, -9.04455089e-01, -8.35403138e-01,\n",
       "       -6.51431454e-01,  1.79138517e+00,  4.83465759e-01, -3.50141844e-01,\n",
       "        6.93786385e-01,  7.12850289e-01,  1.33381468e-01,  6.09552128e-02,\n",
       "        1.21559724e+00,  1.14735383e+00, -6.78739194e-01, -6.40645654e-01,\n",
       "       -6.27179287e-01, -5.80484390e-01, -5.99326139e-01, -5.81577903e-01,\n",
       "       -5.24052116e-01, -3.76331832e-01, -6.94316504e-01, -6.40933592e-01,\n",
       "       -6.13548362e-01, -4.86443276e-01, -7.03323134e-01, -6.16160628e-01,\n",
       "       -7.72867749e-01, -6.38570610e-01, -6.37178745e-01, -5.90925759e-01,\n",
       "       -5.92877914e-01, -6.21730648e-01, -5.71100317e-01, -3.69019186e-01,\n",
       "       -7.81051394e-01, -6.50970630e-01, -6.28115014e-01, -5.24841761e-01,\n",
       "       -7.86924460e-01, -6.28381171e-01, -6.32057808e-01, -5.73122193e-01,\n",
       "       -5.12711173e-01, -4.69897075e-01, -4.60898529e-01, -5.11560225e-01,\n",
       "       -4.90778613e-01, -3.23603190e-01, -6.65675769e-01, -5.24124720e-01,\n",
       "       -4.95533526e-01, -4.65504251e-01, -6.80969099e-01, -4.92670194e-01,\n",
       "       -8.60614993e-01, -8.79513938e-01, -8.26647639e-01, -8.66678138e-01,\n",
       "       -8.73562427e-01, -8.32745409e-01, -8.67262938e-01, -8.76856547e-01,\n",
       "       -8.40637378e-01, -8.42638446e-01, -8.50696394e-01, -7.89728789e-01,\n",
       "       -6.18402654e-01, -6.12994723e-01, -4.22585097e-01, -8.79279316e-01,\n",
       "       -6.96478128e-01, -7.09985470e-01, -5.86476219e-01, -8.50408970e-01,\n",
       "       -8.69461123e-01, -8.41893989e-01, -9.78146365e-01, -1.00023556e+00,\n",
       "       -9.93570832e-01,  4.39769434e+00,  5.91215929e-01, -2.30169620e+00,\n",
       "        3.10662008e+00,  1.55816264e+00,  1.41777722e+00, -1.51406898e+00,\n",
       "       -9.10564700e-01, -9.72555227e-01, -8.03726570e-01, -9.85207574e-02,\n",
       "        6.89535643e-02, -6.29058399e-01, -6.53674569e-01, -6.19659600e-01,\n",
       "       -5.70089680e-01, -5.91764751e-01, -5.89892867e-01, -5.38736011e-01,\n",
       "       -2.87607609e-01, -6.80828205e-01, -6.32479378e-01, -6.15718967e-01,\n",
       "       -5.39489848e-01, -7.00368560e-01, -6.15820776e-01, -7.01786119e-01,\n",
       "       -6.34601895e-01, -6.36330717e-01, -5.84823539e-01, -5.82661500e-01,\n",
       "       -6.16674789e-01, -5.90456176e-01, -3.13755252e-01, -6.80051062e-01,\n",
       "       -6.49082155e-01, -6.24823666e-01, -5.90646615e-01, -7.03820589e-01,\n",
       "       -6.29295896e-01, -5.96793936e-01, -5.67247396e-01, -5.17715324e-01,\n",
       "       -4.64555291e-01, -4.44708691e-01, -5.10753025e-01, -5.06486623e-01,\n",
       "       -2.79895630e-01, -6.10032919e-01, -5.22294361e-01, -4.87694538e-01,\n",
       "       -5.06857222e-01, -5.99448467e-01, -4.88841837e-01, -8.94727703e-01,\n",
       "       -8.20931679e-01, -9.03982389e-01, -8.62396911e-01, -8.10663550e-01,\n",
       "       -9.00071799e-01, -8.93916961e-01, -8.32037916e-01, -9.11340651e-01,\n",
       "       -8.04956481e-01, -7.32456016e-01, -8.42435465e-01, -5.85960331e-01,\n",
       "       -5.29080581e-01, -6.15238495e-01, -8.98399632e-01, -6.51654673e-01,\n",
       "       -5.97230907e-01, -6.55708422e-01, -8.42664251e-01, -7.90636909e-01,\n",
       "       -8.45388123e-01, -1.01578925e+00, -9.80710429e-01, -1.14464942e+00,\n",
       "       -6.27456877e-01, -6.87779842e-01, -8.22095264e-01, -6.11647467e-01,\n",
       "        9.95992628e-01,  2.24864463e+00,  1.71860576e+00,  1.85272298e+00,\n",
       "        1.30092580e+00,  1.17137706e+00, -8.18587308e-01, -7.22307714e-01,\n",
       "       -6.03650284e-01, -5.89943786e-01, -5.78888169e-01, -4.93151255e-01,\n",
       "       -4.75008539e-01, -5.20130604e-01, -4.44995018e-01, -3.43921613e-01,\n",
       "       -6.39523394e-01, -5.85357131e-01, -5.07762454e-01, -4.11923594e-01,\n",
       "       -6.49016960e-01, -5.14410439e-01, -5.54334977e-01, -4.22734174e-01,\n",
       "       -3.57691095e-01, -3.83433214e-01, -3.82268764e-01, -4.39316556e-01,\n",
       "       -4.12304674e-01, -3.00212527e-01, -5.88465105e-01, -3.81844985e-01,\n",
       "       -4.10063120e-01, -4.01536911e-01, -5.95835762e-01, -4.00062175e-01,\n",
       "       -5.93020524e-01, -5.06216403e-01, -5.00750119e-01, -4.53372153e-01,\n",
       "       -4.36737900e-01, -4.91789560e-01, -4.56961273e-01, -3.32258874e-01,\n",
       "       -6.32114040e-01, -5.16903116e-01, -4.66722201e-01, -4.19686161e-01,\n",
       "       -6.50330625e-01, -4.70486324e-01, -8.22339759e-01, -8.34533204e-01,\n",
       "       -8.21992767e-01, -8.44588963e-01, -2.18484890e-01, -8.22339759e-01,\n",
       "       -7.14960133e-01, -8.08104984e-01, -6.72763347e-01, -1.54250929e-01,\n",
       "       -6.28693946e-01, -2.60957340e-01, -5.15504598e-01, -8.77406200e-01,\n",
       "       -8.71123489e-01, -8.75940468e-01, -8.40381328e-01, -6.85010391e-01,\n",
       "       -8.77406200e-01, -6.97060129e-01, -8.61030670e-01, -9.92060628e-01,\n",
       "       -3.09567308e-01,  6.88125849e-01, -5.96322844e-01, -5.68224894e-01,\n",
       "       -8.73452016e-01, -8.41847499e-01, -8.83557411e-01, -7.74263539e-01,\n",
       "       -6.16197346e-01, -8.73452016e-01, -6.53682127e-01, -8.71141199e-01,\n",
       "       -1.03667686e+00, -7.06371576e-01, -3.12090254e-01,  2.63648877e+00,\n",
       "        2.97031054e+00, -7.93123079e-01, -7.66001092e-01, -7.74138538e-01,\n",
       "       -7.52057068e-01, -6.32043970e-01, -7.93123079e-01, -4.83624257e-01,\n",
       "       -7.82152956e-01, -9.56307290e-01, -7.15660915e-01, -8.19092765e-01,\n",
       "       -2.63953864e-04, -2.99902355e-01, -3.57898189e-01,  6.20390218e-02,\n",
       "       -7.82987584e-01, -1.90341936e-02, -6.74432366e-01,  3.82007658e-01,\n",
       "       -1.61505480e-02])"
      ]
     },
     "execution_count": 12,
     "metadata": {},
     "output_type": "execute_result"
    }
   ],
   "source": [
    "X_scaled[0]"
   ]
  },
  {
   "cell_type": "markdown",
   "metadata": {
    "_uuid": "b7249210501c3396bddbf57cea47ac01a0d85170"
   },
   "source": [
    "Reduce the number of dimensions using PCA, leaving as many components as necessary to explain at least 90% of the variance of the original (scaled) data. Use the scaled dataset and fix `random_state` (RANDOM_STATE constant)."
   ]
  },
  {
   "cell_type": "code",
   "execution_count": 13,
   "metadata": {
    "_uuid": "2fc8993e03857d93b59e5e1e5800f494b23239be",
    "trusted": true
   },
   "outputs": [],
   "source": [
    "pca = PCA(n_components=0.9,random_state=RANDOM_STATE)\n",
    "pca.fit(X_scaled)\n",
    "X_pca = pca.transform(X_scaled)"
   ]
  },
  {
   "cell_type": "markdown",
   "metadata": {
    "_uuid": "f0664d287ec08bb891d3c12fc87977bf92c97ae3"
   },
   "source": [
    "**Question 1:** <br>\n",
    "\n",
    "What is the minimum number of principal components required to cover the 90% of the variance of the original (scaled) data?"
   ]
  },
  {
   "cell_type": "code",
   "execution_count": 14,
   "metadata": {},
   "outputs": [
    {
     "data": {
      "text/plain": [
       "(10299, 65)"
      ]
     },
     "execution_count": 14,
     "metadata": {},
     "output_type": "execute_result"
    }
   ],
   "source": [
    "X_pca.shape"
   ]
  },
  {
   "cell_type": "markdown",
   "metadata": {},
   "source": [
    "Answer: 65"
   ]
  },
  {
   "cell_type": "markdown",
   "metadata": {
    "_uuid": "a3d8270e6546cb8b38b7cd47909eff93d77716bc"
   },
   "source": [
    "**Answer options:**\n",
    "- 56 \n",
    "- 65\n",
    "- 66\n",
    "- 193"
   ]
  },
  {
   "cell_type": "markdown",
   "metadata": {
    "_uuid": "baf5451408baf763d178b01a5d75e37105f4446e"
   },
   "source": [
    "**Question 2:**<br>\n",
    "What percentage of the variance is covered by the first principal component? Round to the nearest percent.\n",
    "\n",
    "**Answer options:**\n",
    "- 45\n",
    "- 51 \n",
    "- 56\n",
    "- 61"
   ]
  },
  {
   "cell_type": "code",
   "execution_count": 15,
   "metadata": {
    "_uuid": "3fcec6dd81af6f09364cb011ba0994d4e5852f43",
    "trusted": true
   },
   "outputs": [
    {
     "data": {
      "text/plain": [
       "np.float64(0.5073822103501334)"
      ]
     },
     "execution_count": 15,
     "metadata": {},
     "output_type": "execute_result"
    }
   ],
   "source": [
    "# for i, component in enumerate(pca.components_):\n",
    "#     print(\n",
    "#         \"{} component: {}% of initial variance\".format(\n",
    "#             i + 1, round(100 * pca.explained_variance_ratio_[i], 2)\n",
    "#         )\n",
    "#     )\n",
    "#     print(\n",
    "#         \" + \".join(\n",
    "#             \"%.3f x %s\" % (value, name)\n",
    "#             for value, name in zip(component, range(1, len(component) + 1))\n",
    "#         )\n",
    "#     )\n",
    "\n",
    "pca.explained_variance_ratio_[0]"
   ]
  },
  {
   "cell_type": "markdown",
   "metadata": {},
   "source": [
    "Answer: 51"
   ]
  },
  {
   "cell_type": "markdown",
   "metadata": {
    "_uuid": "53787132590f0f8b8f9b44d47981f9de969b89f2"
   },
   "source": [
    "Visualize data in projection on the first two principal components."
   ]
  },
  {
   "cell_type": "code",
   "execution_count": 16,
   "metadata": {},
   "outputs": [
    {
     "data": {
      "image/png": "[encoded data removed]",
      "text/plain": [
       "<Figure size 1200x900 with 1 Axes>"
      ]
     },
     "metadata": {},
     "output_type": "display_data"
    }
   ],
   "source": [
    "#activity labels\n",
    "activity_labels = {\n",
    "    1: \"walking\",\n",
    "    2: \"walking upstairs\", \n",
    "    3: \"walking downstairs\", \n",
    "    4: \"sitting\", \n",
    "    5: \"standing\", \n",
    "    6: \"laying\"\n",
    "}\n",
    "\n",
    "scatter = plt.scatter(X_pca[:,0], X_pca[:,1], c=y, s=20, cmap='viridis')\n",
    "\n",
    "# Create custom legend handles\n",
    "cmap = plt.cm.viridis\n",
    "norm = plt.Normalize(min(y), max(y))\n",
    "handles = [mpatches.Patch(color=cmap(norm(key)), label=value) \n",
    "           for key, value in activity_labels.items()]\n",
    "\n",
    "plt.legend(handles=handles, title=\"Activity\")\n",
    "plt.show()\n"
   ]
  },
  {
   "cell_type": "markdown",
   "metadata": {
    "_uuid": "e54a8eb905c5d9b6180083fab0ef8f74ca582c62"
   },
   "source": [
    "**Question 3:**<br>\n",
    "If everything worked out correctly, you will see a number of clusters, almost perfectly separated from each other. What types of activity are included in these clusters? <br>\n",
    "\n",
    "**Answer options:**\n",
    "- 1 cluster: all 6 activities\n",
    "- 2 clusters: (walking, walking upstairs, walking downstairs ) and (sitting, standing, laying)\n",
    "- 3 clusters: (walking), (walking upstairs, walking downstairs) and (sitting, standing, laying)\n",
    "- 6 clusters"
   ]
  },
  {
   "cell_type": "markdown",
   "metadata": {},
   "source": [
    "Answer: 2 clusters"
   ]
  },
  {
   "cell_type": "markdown",
   "metadata": {
    "_uuid": "8880c32278abd73e16764a6b842717cd783b66cf"
   },
   "source": [
    "------------------------------"
   ]
  },
  {
   "cell_type": "markdown",
   "metadata": {
    "_uuid": "37b0cfd306d225c21ae1e2a8abb882870a24271b"
   },
   "source": [
    "Perform clustering with the `KMeans` method, training the model on data with reduced dimensionality (by PCA). In this case, we will give a clue to look for exactly 6 clusters, but in general case we will not know how many clusters we should be looking for.\n",
    "\n",
    "Options:\n",
    "\n",
    "- **n_clusters** = n_classes (number of unique labels of the target class)\n",
    "- **n_init** = 100\n",
    "- **random_state** = RANDOM_STATE (for reproducibility of the result)\n",
    "\n",
    "Other parameters should have default values."
   ]
  },
  {
   "cell_type": "code",
   "execution_count": 17,
   "metadata": {
    "_uuid": "0d6d17a62f335bb062ea0e5134cb03ff60cb085b",
    "trusted": true
   },
   "outputs": [],
   "source": [
    "kmeans = KMeans(n_clusters=6, random_state=RANDOM_STATE, n_init=100).fit(X_pca)\n",
    "cluster_labels = kmeans.labels_"
   ]
  },
  {
   "cell_type": "markdown",
   "metadata": {
    "_uuid": "e34d43b9b3ebd34ad01c3a1d9d1a4dde85a4e832"
   },
   "source": [
    "Visualize data in projection on the first two principal components. Color the dots according to the clusters obtained."
   ]
  },
  {
   "cell_type": "code",
   "execution_count": 18,
   "metadata": {
    "_uuid": "c05aa57fd57870aaa25543be822a75801a80b9a2",
    "trusted": true
   },
   "outputs": [
    {
     "data": {
      "image/png": "[encoded data removed]",
      "text/plain": [
       "<Figure size 1200x900 with 1 Axes>"
      ]
     },
     "metadata": {},
     "output_type": "display_data"
    }
   ],
   "source": [
    "plt.scatter(X_pca[:, 0], X_pca[:, 1], c=cluster_labels, s=20, cmap=\"viridis\");"
   ]
  },
  {
   "cell_type": "markdown",
   "metadata": {
    "_uuid": "0d84b356e4e6f91f05fdb9a526ccfdb099523882"
   },
   "source": [
    "Look at the correspondence between the cluster marks and the original class labels and what kinds of activities the `KMeans` algorithm is confused at."
   ]
  },
  {
   "cell_type": "code",
   "execution_count": 19,
   "metadata": {
    "_uuid": "617e35a6ce5f78fa73d315b5cdbcad8e29c8cf21",
    "trusted": true
   },
   "outputs": [
    {
     "data": {
      "text/html": [
       "<div>\n",
       "<style scoped>\n",
       "    .dataframe tbody tr th:only-of-type {\n",
       "        vertical-align: middle;\n",
       "    }\n",
       "\n",
       "    .dataframe tbody tr th {\n",
       "        vertical-align: top;\n",
       "    }\n",
       "\n",
       "    .dataframe thead th {\n",
       "        text-align: right;\n",
       "    }\n",
       "</style>\n",
       "<table border=\"1\" class=\"dataframe\">\n",
       "  <thead>\n",
       "    <tr style=\"text-align: right;\">\n",
       "      <th></th>\n",
       "      <th>cluster1</th>\n",
       "      <th>cluster2</th>\n",
       "      <th>cluster3</th>\n",
       "      <th>cluster4</th>\n",
       "      <th>cluster5</th>\n",
       "      <th>cluster6</th>\n",
       "      <th>all</th>\n",
       "    </tr>\n",
       "  </thead>\n",
       "  <tbody>\n",
       "    <tr>\n",
       "      <th>walking</th>\n",
       "      <td>0</td>\n",
       "      <td>903</td>\n",
       "      <td>741</td>\n",
       "      <td>78</td>\n",
       "      <td>0</td>\n",
       "      <td>0</td>\n",
       "      <td>1722</td>\n",
       "    </tr>\n",
       "    <tr>\n",
       "      <th>going up the stairs</th>\n",
       "      <td>0</td>\n",
       "      <td>1241</td>\n",
       "      <td>296</td>\n",
       "      <td>5</td>\n",
       "      <td>2</td>\n",
       "      <td>0</td>\n",
       "      <td>1544</td>\n",
       "    </tr>\n",
       "    <tr>\n",
       "      <th>going down the stairs</th>\n",
       "      <td>0</td>\n",
       "      <td>320</td>\n",
       "      <td>890</td>\n",
       "      <td>196</td>\n",
       "      <td>0</td>\n",
       "      <td>0</td>\n",
       "      <td>1406</td>\n",
       "    </tr>\n",
       "    <tr>\n",
       "      <th>sitting</th>\n",
       "      <td>1235</td>\n",
       "      <td>1</td>\n",
       "      <td>0</td>\n",
       "      <td>0</td>\n",
       "      <td>450</td>\n",
       "      <td>91</td>\n",
       "      <td>1777</td>\n",
       "    </tr>\n",
       "    <tr>\n",
       "      <th>standing</th>\n",
       "      <td>1344</td>\n",
       "      <td>0</td>\n",
       "      <td>0</td>\n",
       "      <td>0</td>\n",
       "      <td>562</td>\n",
       "      <td>0</td>\n",
       "      <td>1906</td>\n",
       "    </tr>\n",
       "    <tr>\n",
       "      <th>laying</th>\n",
       "      <td>52</td>\n",
       "      <td>5</td>\n",
       "      <td>0</td>\n",
       "      <td>0</td>\n",
       "      <td>329</td>\n",
       "      <td>1558</td>\n",
       "      <td>1944</td>\n",
       "    </tr>\n",
       "    <tr>\n",
       "      <th>all</th>\n",
       "      <td>2631</td>\n",
       "      <td>2470</td>\n",
       "      <td>1927</td>\n",
       "      <td>279</td>\n",
       "      <td>1343</td>\n",
       "      <td>1649</td>\n",
       "      <td>10299</td>\n",
       "    </tr>\n",
       "  </tbody>\n",
       "</table>\n",
       "</div>"
      ],
      "text/plain": [
       "                       cluster1  cluster2  cluster3  cluster4  cluster5  \\\n",
       "walking                       0       903       741        78         0   \n",
       "going up the stairs           0      1241       296         5         2   \n",
       "going down the stairs         0       320       890       196         0   \n",
       "sitting                    1235         1         0         0       450   \n",
       "standing                   1344         0         0         0       562   \n",
       "laying                       52         5         0         0       329   \n",
       "all                        2631      2470      1927       279      1343   \n",
       "\n",
       "                       cluster6    all  \n",
       "walking                       0   1722  \n",
       "going up the stairs           0   1544  \n",
       "going down the stairs         0   1406  \n",
       "sitting                      91   1777  \n",
       "standing                      0   1906  \n",
       "laying                     1558   1944  \n",
       "all                        1649  10299  "
      ]
     },
     "execution_count": 19,
     "metadata": {},
     "output_type": "execute_result"
    }
   ],
   "source": [
    "tab = pd.crosstab(y, cluster_labels, margins=True)\n",
    "tab.index = ['walking', 'going up the stairs',\n",
    "            'going down the stairs', 'sitting', 'standing', 'laying', 'all']\n",
    "tab.columns = ['cluster' + str(i + 1) for i in range(6)] + ['all']\n",
    "tab"
   ]
  },
  {
   "cell_type": "markdown",
   "metadata": {
    "_uuid": "047f89c9981e696776ee98f87d0934ee1b08ed98"
   },
   "source": [
    "We see that for each class (i.e., each activity) there are several clusters. Let's look at the maximum percentage of objects in a class that are assigned to a single cluster. This will be a simple metric that characterizes how easily the class is separated from others when clustering.\n",
    "\n",
    "Example: if for class \"walking downstairs\" (with 1406 instances belonging to it), the distribution of clusters is:\n",
    " - cluster 1 - 900\n",
    " - cluster 3 - 500\n",
    " - cluster 6 - 6,\n",
    " \n",
    "then such a share will be 900/1406 $ \\approx $ 0.64.\n",
    " \n",
    "\n",
    "**Question 4:** <br>\n",
    "Which activity is separated from the rest better than others based on the simple metric described above? <br>\n",
    "\n",
    "**Answer:**\n",
    "- walking\n",
    "- standing\n",
    "- walking downstairs\n",
    "- all three options are incorrect"
   ]
  },
  {
   "cell_type": "code",
   "execution_count": 20,
   "metadata": {},
   "outputs": [
    {
     "name": "stdout",
     "output_type": "stream",
     "text": [
      "walking cluster2 :  0.524390243902439\n",
      "going up the stairs cluster2 :  0.8037564766839378\n",
      "going down the stairs cluster3 :  0.6330014224751067\n",
      "sitting cluster1 :  0.694991558806978\n",
      "standing cluster1 :  0.7051416579223505\n",
      "laying cluster6 :  0.801440329218107\n",
      "all cluster1 :  0.2554616953102243\n"
     ]
    }
   ],
   "source": [
    "for i in range(len(tab.index)):\n",
    "    curr_row = tab.loc[tab.index[i]]\n",
    "    max_col = curr_row.drop('all').idxmax()\n",
    "    print(tab.index[i] ,max_col, \": \" ,curr_row.drop('all').max() / curr_row['all'])"
   ]
  },
  {
   "cell_type": "markdown",
   "metadata": {},
   "source": [
    "Answer: All three options are incorrect (Going up the stairs)"
   ]
  },
  {
   "cell_type": "markdown",
   "metadata": {
    "_uuid": "c51f76505725d754a6d54f7bd01dedff7d5dc288"
   },
   "source": [
    "It can be seen that kMeans does not distinguish activities very well. Use the elbow method to select the optimal number of clusters. Parameters of the algorithm and the data we use are the same as before, we change only `n_clusters`."
   ]
  },
  {
   "cell_type": "code",
   "execution_count": 21,
   "metadata": {
    "_uuid": "90c60a1f8bce02bfedd8233190b7ff81fb134d35",
    "trusted": true
   },
   "outputs": [
    {
     "data": {
      "image/png": "[encoded data removed]",
      "text/plain": [
       "<Figure size 1200x900 with 1 Axes>"
      ]
     },
     "metadata": {},
     "output_type": "display_data"
    }
   ],
   "source": [
    "from sklearn.cluster import KMeans\n",
    "\n",
    "inertia = []\n",
    "for k in range(1, 8):\n",
    "    kmeans = KMeans(n_clusters=k, random_state=RANDOM_STATE, n_init='auto').fit(X_pca)\n",
    "    inertia.append(np.sqrt(kmeans.inertia_))\n",
    "    \n",
    "plt.plot(range(1, 8), inertia, marker=\"s\")\n",
    "plt.xlabel(\"$k$\")\n",
    "plt.ylabel(\"$J(C_k)$\");"
   ]
  },
  {
   "cell_type": "markdown",
   "metadata": {
    "_uuid": "5f9d80ac0bea5173134d880a5c1faf233456cd12"
   },
   "source": [
    "**Question 5:** <br>\n",
    "How many clusters can we choose according to the elbow method? <br>\n",
    "\n",
    "**Answer options:**\n",
    "- 1\n",
    "- 2\n",
    "- 3\n",
    "- 4"
   ]
  },
  {
   "cell_type": "markdown",
   "metadata": {},
   "source": [
    "Answer: 2"
   ]
  },
  {
   "cell_type": "markdown",
   "metadata": {
    "_uuid": "f4b2c7c0bf71844e2aa1981b20bee09d9064255d"
   },
   "source": [
    "------------------------"
   ]
  },
  {
   "cell_type": "markdown",
   "metadata": {
    "_uuid": "234da989840379595bc0e65f6c1f81b78eddf19f"
   },
   "source": [
    "Let's try another clustering algorithm, described in the article – agglomerative clustering."
   ]
  },
  {
   "cell_type": "code",
   "execution_count": 22,
   "metadata": {
    "_uuid": "1b6a2ea741788687a5f650ae5489385ffa8246cf",
    "trusted": true
   },
   "outputs": [],
   "source": [
    "ag = AgglomerativeClustering(n_clusters=n_classes, \n",
    "                              linkage='ward').fit(X_pca)"
   ]
  },
  {
   "cell_type": "markdown",
   "metadata": {
    "_uuid": "e7865fcf352c96efef317c24b424233acd0c5dd3"
   },
   "source": [
    "Calculate the Adjusted Rand Index (`sklearn.metrics`) for the resulting clustering and for ` KMeans` with the parameters from the 4th question."
   ]
  },
  {
   "cell_type": "code",
   "execution_count": 23,
   "metadata": {
    "_uuid": "6d934179759ebf8159a6879c6e906a6a4d44544e",
    "trusted": true
   },
   "outputs": [
    {
     "data": {
      "text/plain": [
       "0.49362763373004886"
      ]
     },
     "execution_count": 23,
     "metadata": {},
     "output_type": "execute_result"
    }
   ],
   "source": [
    "# Your code here\n",
    "metrics.adjusted_rand_score(y, ag.labels_)"
   ]
  },
  {
   "cell_type": "code",
   "execution_count": 24,
   "metadata": {},
   "outputs": [
    {
     "data": {
      "text/plain": [
       "0.30102322752139027"
      ]
     },
     "execution_count": 24,
     "metadata": {},
     "output_type": "execute_result"
    }
   ],
   "source": [
    "metrics.adjusted_rand_score(y,kmeans.labels_)"
   ]
  },
  {
   "cell_type": "markdown",
   "metadata": {
    "_uuid": "ccee7b5d2d1155ebe672cec4282bb06af01f87a4"
   },
   "source": [
    "**Question 6:** <br>\n",
    "Select all the correct statements. <br>\n",
    "\n",
    "**Answer options:**\n",
    "- According to ARI, KMeans handled clustering worse than Agglomerative Clustering (+)\n",
    "- For ARI, it does not matter which tags are assigned to the cluster, only the partitioning of instances into clusters matters (+)\n",
    "- In case of random partitioning into clusters, ARI will be close to zero (+)"
   ]
  },
  {
   "cell_type": "markdown",
   "metadata": {
    "_uuid": "1367c265153403060e4e0bd69fe578cfafd03678"
   },
   "source": [
    "-------------------------------"
   ]
  },
  {
   "cell_type": "markdown",
   "metadata": {
    "_uuid": "eadfcc38dded52cc91f75a422a6eff8f1a5993c7"
   },
   "source": [
    "You can notice that the task is not very well solved when we try to detect several clusters (> 2). Now, let's solve the classification problem, given that the data is labeled.\n",
    "\n",
    "For classification, use the support vector machine – class `sklearn.svm.LinearSVC`. In this course, we did study this algorithm separately, but it is well-known and you can read about it, for example [here](http://cs231n.github.io/linear-classify/#svmvssoftmax).\n",
    "\n",
    "Choose the `C` hyperparameter for` LinearSVC` using `GridSearchCV`.\n",
    "\n",
    "- Train the new `StandardScaler` on the training set (with all original features), apply scaling to the test set\n",
    "- In `GridSearchCV`, specify `cv` = 3."
   ]
  },
  {
   "cell_type": "code",
   "execution_count": 25,
   "metadata": {
    "_uuid": "61151d2f16a8beb49e7635e95ea55129f6e984ac",
    "trusted": true
   },
   "outputs": [],
   "source": [
    "# # Your code here\n",
    "scaler = StandardScaler()\n",
    "X_train_scaled =scaler.fit_transform(X_train)\n",
    "X_test_scaled = scaler.fit_transform(X_test)"
   ]
  },
  {
   "cell_type": "code",
   "execution_count": 26,
   "metadata": {
    "_uuid": "7b0c661771542832de4f923b5206f6c8df1aa508",
    "trusted": true
   },
   "outputs": [],
   "source": [
    "svc = LinearSVC(random_state=RANDOM_STATE)\n",
    "svc_params = {'C': [0.001, 0.01, 0.1, 1, 10]}"
   ]
  },
  {
   "cell_type": "code",
   "execution_count": null,
   "metadata": {},
   "outputs": [
    {
     "name": "stderr",
     "output_type": "stream",
     "text": [
      "/home/bahacelik/repos/internship-deliverables/mlcourse/.venv/lib/python3.12/site-packages/sklearn/svm/_base.py:1249: ConvergenceWarning: Liblinear failed to converge, increase the number of iterations.\n",
      "  warnings.warn(\n"
     ]
    },
    {
     "data": {
      "text/html": [
       "<style>#sk-container-id-1 {\n",
       "  /* Definition of color scheme common for light and dark mode */\n",
       "  --sklearn-color-text: #000;\n",
       "  --sklearn-color-text-muted: #666;\n",
       "  --sklearn-color-line: gray;\n",
       "  /* Definition of color scheme for unfitted estimators */\n",
       "  --sklearn-color-unfitted-level-0: #fff5e6;\n",
       "  --sklearn-color-unfitted-level-1: #f6e4d2;\n",
       "  --sklearn-color-unfitted-level-2: #ffe0b3;\n",
       "  --sklearn-color-unfitted-level-3: chocolate;\n",
       "  /* Definition of color scheme for fitted estimators */\n",
       "  --sklearn-color-fitted-level-0: #f0f8ff;\n",
       "  --sklearn-color-fitted-level-1: #d4ebff;\n",
       "  --sklearn-color-fitted-level-2: #b3dbfd;\n",
       "  --sklearn-color-fitted-level-3: cornflowerblue;\n",
       "\n",
       "  /* Specific color for light theme */\n",
       "  --sklearn-color-text-on-default-background: var(--sg-text-color, var(--theme-code-foreground, var(--jp-content-font-color1, black)));\n",
       "  --sklearn-color-background: var(--sg-background-color, var(--theme-background, var(--jp-layout-color0, white)));\n",
       "  --sklearn-color-border-box: var(--sg-text-color, var(--theme-code-foreground, var(--jp-content-font-color1, black)));\n",
       "  --sklearn-color-icon: #696969;\n",
       "\n",
       "  @media (prefers-color-scheme: dark) {\n",
       "    /* Redefinition of color scheme for dark theme */\n",
       "    --sklearn-color-text-on-default-background: var(--sg-text-color, var(--theme-code-foreground, var(--jp-content-font-color1, white)));\n",
       "    --sklearn-color-background: var(--sg-background-color, var(--theme-background, var(--jp-layout-color0, #111)));\n",
       "    --sklearn-color-border-box: var(--sg-text-color, var(--theme-code-foreground, var(--jp-content-font-color1, white)));\n",
       "    --sklearn-color-icon: #878787;\n",
       "  }\n",
       "}\n",
       "\n",
       "#sk-container-id-1 {\n",
       "  color: var(--sklearn-color-text);\n",
       "}\n",
       "\n",
       "#sk-container-id-1 pre {\n",
       "  padding: 0;\n",
       "}\n",
       "\n",
       "#sk-container-id-1 input.sk-hidden--visually {\n",
       "  border: 0;\n",
       "  clip: rect(1px 1px 1px 1px);\n",
       "  clip: rect(1px, 1px, 1px, 1px);\n",
       "  height: 1px;\n",
       "  margin: -1px;\n",
       "  overflow: hidden;\n",
       "  padding: 0;\n",
       "  position: absolute;\n",
       "  width: 1px;\n",
       "}\n",
       "\n",
       "#sk-container-id-1 div.sk-dashed-wrapped {\n",
       "  border: 1px dashed var(--sklearn-color-line);\n",
       "  margin: 0 0.4em 0.5em 0.4em;\n",
       "  box-sizing: border-box;\n",
       "  padding-bottom: 0.4em;\n",
       "  background-color: var(--sklearn-color-background);\n",
       "}\n",
       "\n",
       "#sk-container-id-1 div.sk-container {\n",
       "  /* jupyter's `normalize.less` sets `[hidden] { display: none; }`\n",
       "     but bootstrap.min.css set `[hidden] { display: none !important; }`\n",
       "     so we also need the `!important` here to be able to override the\n",
       "     default hidden behavior on the sphinx rendered scikit-learn.org.\n",
       "     See: https://github.com/scikit-learn/scikit-learn/issues/21755 */\n",
       "  display: inline-block !important;\n",
       "  position: relative;\n",
       "}\n",
       "\n",
       "#sk-container-id-1 div.sk-text-repr-fallback {\n",
       "  display: none;\n",
       "}\n",
       "\n",
       "div.sk-parallel-item,\n",
       "div.sk-serial,\n",
       "div.sk-item {\n",
       "  /* draw centered vertical line to link estimators */\n",
       "  background-image: linear-gradient(var(--sklearn-color-text-on-default-background), var(--sklearn-color-text-on-default-background));\n",
       "  background-size: 2px 100%;\n",
       "  background-repeat: no-repeat;\n",
       "  background-position: center center;\n",
       "}\n",
       "\n",
       "/* Parallel-specific style estimator block */\n",
       "\n",
       "#sk-container-id-1 div.sk-parallel-item::after {\n",
       "  content: \"\";\n",
       "  width: 100%;\n",
       "  border-bottom: 2px solid var(--sklearn-color-text-on-default-background);\n",
       "  flex-grow: 1;\n",
       "}\n",
       "\n",
       "#sk-container-id-1 div.sk-parallel {\n",
       "  display: flex;\n",
       "  align-items: stretch;\n",
       "  justify-content: center;\n",
       "  background-color: var(--sklearn-color-background);\n",
       "  position: relative;\n",
       "}\n",
       "\n",
       "#sk-container-id-1 div.sk-parallel-item {\n",
       "  display: flex;\n",
       "  flex-direction: column;\n",
       "}\n",
       "\n",
       "#sk-container-id-1 div.sk-parallel-item:first-child::after {\n",
       "  align-self: flex-end;\n",
       "  width: 50%;\n",
       "}\n",
       "\n",
       "#sk-container-id-1 div.sk-parallel-item:last-child::after {\n",
       "  align-self: flex-start;\n",
       "  width: 50%;\n",
       "}\n",
       "\n",
       "#sk-container-id-1 div.sk-parallel-item:only-child::after {\n",
       "  width: 0;\n",
       "}\n",
       "\n",
       "/* Serial-specific style estimator block */\n",
       "\n",
       "#sk-container-id-1 div.sk-serial {\n",
       "  display: flex;\n",
       "  flex-direction: column;\n",
       "  align-items: center;\n",
       "  background-color: var(--sklearn-color-background);\n",
       "  padding-right: 1em;\n",
       "  padding-left: 1em;\n",
       "}\n",
       "\n",
       "\n",
       "/* Toggleable style: style used for estimator/Pipeline/ColumnTransformer box that is\n",
       "clickable and can be expanded/collapsed.\n",
       "- Pipeline and ColumnTransformer use this feature and define the default style\n",
       "- Estimators will overwrite some part of the style using the `sk-estimator` class\n",
       "*/\n",
       "\n",
       "/* Pipeline and ColumnTransformer style (default) */\n",
       "\n",
       "#sk-container-id-1 div.sk-toggleable {\n",
       "  /* Default theme specific background. It is overwritten whether we have a\n",
       "  specific estimator or a Pipeline/ColumnTransformer */\n",
       "  background-color: var(--sklearn-color-background);\n",
       "}\n",
       "\n",
       "/* Toggleable label */\n",
       "#sk-container-id-1 label.sk-toggleable__label {\n",
       "  cursor: pointer;\n",
       "  display: flex;\n",
       "  width: 100%;\n",
       "  margin-bottom: 0;\n",
       "  padding: 0.5em;\n",
       "  box-sizing: border-box;\n",
       "  text-align: center;\n",
       "  align-items: start;\n",
       "  justify-content: space-between;\n",
       "  gap: 0.5em;\n",
       "}\n",
       "\n",
       "#sk-container-id-1 label.sk-toggleable__label .caption {\n",
       "  font-size: 0.6rem;\n",
       "  font-weight: lighter;\n",
       "  color: var(--sklearn-color-text-muted);\n",
       "}\n",
       "\n",
       "#sk-container-id-1 label.sk-toggleable__label-arrow:before {\n",
       "  /* Arrow on the left of the label */\n",
       "  content: \"▸\";\n",
       "  float: left;\n",
       "  margin-right: 0.25em;\n",
       "  color: var(--sklearn-color-icon);\n",
       "}\n",
       "\n",
       "#sk-container-id-1 label.sk-toggleable__label-arrow:hover:before {\n",
       "  color: var(--sklearn-color-text);\n",
       "}\n",
       "\n",
       "/* Toggleable content - dropdown */\n",
       "\n",
       "#sk-container-id-1 div.sk-toggleable__content {\n",
       "  max-height: 0;\n",
       "  max-width: 0;\n",
       "  overflow: hidden;\n",
       "  text-align: left;\n",
       "  /* unfitted */\n",
       "  background-color: var(--sklearn-color-unfitted-level-0);\n",
       "}\n",
       "\n",
       "#sk-container-id-1 div.sk-toggleable__content.fitted {\n",
       "  /* fitted */\n",
       "  background-color: var(--sklearn-color-fitted-level-0);\n",
       "}\n",
       "\n",
       "#sk-container-id-1 div.sk-toggleable__content pre {\n",
       "  margin: 0.2em;\n",
       "  border-radius: 0.25em;\n",
       "  color: var(--sklearn-color-text);\n",
       "  /* unfitted */\n",
       "  background-color: var(--sklearn-color-unfitted-level-0);\n",
       "}\n",
       "\n",
       "#sk-container-id-1 div.sk-toggleable__content.fitted pre {\n",
       "  /* unfitted */\n",
       "  background-color: var(--sklearn-color-fitted-level-0);\n",
       "}\n",
       "\n",
       "#sk-container-id-1 input.sk-toggleable__control:checked~div.sk-toggleable__content {\n",
       "  /* Expand drop-down */\n",
       "  max-height: 200px;\n",
       "  max-width: 100%;\n",
       "  overflow: auto;\n",
       "}\n",
       "\n",
       "#sk-container-id-1 input.sk-toggleable__control:checked~label.sk-toggleable__label-arrow:before {\n",
       "  content: \"▾\";\n",
       "}\n",
       "\n",
       "/* Pipeline/ColumnTransformer-specific style */\n",
       "\n",
       "#sk-container-id-1 div.sk-label input.sk-toggleable__control:checked~label.sk-toggleable__label {\n",
       "  color: var(--sklearn-color-text);\n",
       "  background-color: var(--sklearn-color-unfitted-level-2);\n",
       "}\n",
       "\n",
       "#sk-container-id-1 div.sk-label.fitted input.sk-toggleable__control:checked~label.sk-toggleable__label {\n",
       "  background-color: var(--sklearn-color-fitted-level-2);\n",
       "}\n",
       "\n",
       "/* Estimator-specific style */\n",
       "\n",
       "/* Colorize estimator box */\n",
       "#sk-container-id-1 div.sk-estimator input.sk-toggleable__control:checked~label.sk-toggleable__label {\n",
       "  /* unfitted */\n",
       "  background-color: var(--sklearn-color-unfitted-level-2);\n",
       "}\n",
       "\n",
       "#sk-container-id-1 div.sk-estimator.fitted input.sk-toggleable__control:checked~label.sk-toggleable__label {\n",
       "  /* fitted */\n",
       "  background-color: var(--sklearn-color-fitted-level-2);\n",
       "}\n",
       "\n",
       "#sk-container-id-1 div.sk-label label.sk-toggleable__label,\n",
       "#sk-container-id-1 div.sk-label label {\n",
       "  /* The background is the default theme color */\n",
       "  color: var(--sklearn-color-text-on-default-background);\n",
       "}\n",
       "\n",
       "/* On hover, darken the color of the background */\n",
       "#sk-container-id-1 div.sk-label:hover label.sk-toggleable__label {\n",
       "  color: var(--sklearn-color-text);\n",
       "  background-color: var(--sklearn-color-unfitted-level-2);\n",
       "}\n",
       "\n",
       "/* Label box, darken color on hover, fitted */\n",
       "#sk-container-id-1 div.sk-label.fitted:hover label.sk-toggleable__label.fitted {\n",
       "  color: var(--sklearn-color-text);\n",
       "  background-color: var(--sklearn-color-fitted-level-2);\n",
       "}\n",
       "\n",
       "/* Estimator label */\n",
       "\n",
       "#sk-container-id-1 div.sk-label label {\n",
       "  font-family: monospace;\n",
       "  font-weight: bold;\n",
       "  display: inline-block;\n",
       "  line-height: 1.2em;\n",
       "}\n",
       "\n",
       "#sk-container-id-1 div.sk-label-container {\n",
       "  text-align: center;\n",
       "}\n",
       "\n",
       "/* Estimator-specific */\n",
       "#sk-container-id-1 div.sk-estimator {\n",
       "  font-family: monospace;\n",
       "  border: 1px dotted var(--sklearn-color-border-box);\n",
       "  border-radius: 0.25em;\n",
       "  box-sizing: border-box;\n",
       "  margin-bottom: 0.5em;\n",
       "  /* unfitted */\n",
       "  background-color: var(--sklearn-color-unfitted-level-0);\n",
       "}\n",
       "\n",
       "#sk-container-id-1 div.sk-estimator.fitted {\n",
       "  /* fitted */\n",
       "  background-color: var(--sklearn-color-fitted-level-0);\n",
       "}\n",
       "\n",
       "/* on hover */\n",
       "#sk-container-id-1 div.sk-estimator:hover {\n",
       "  /* unfitted */\n",
       "  background-color: var(--sklearn-color-unfitted-level-2);\n",
       "}\n",
       "\n",
       "#sk-container-id-1 div.sk-estimator.fitted:hover {\n",
       "  /* fitted */\n",
       "  background-color: var(--sklearn-color-fitted-level-2);\n",
       "}\n",
       "\n",
       "/* Specification for estimator info (e.g. \"i\" and \"?\") */\n",
       "\n",
       "/* Common style for \"i\" and \"?\" */\n",
       "\n",
       ".sk-estimator-doc-link,\n",
       "a:link.sk-estimator-doc-link,\n",
       "a:visited.sk-estimator-doc-link {\n",
       "  float: right;\n",
       "  font-size: smaller;\n",
       "  line-height: 1em;\n",
       "  font-family: monospace;\n",
       "  background-color: var(--sklearn-color-background);\n",
       "  border-radius: 1em;\n",
       "  height: 1em;\n",
       "  width: 1em;\n",
       "  text-decoration: none !important;\n",
       "  margin-left: 0.5em;\n",
       "  text-align: center;\n",
       "  /* unfitted */\n",
       "  border: var(--sklearn-color-unfitted-level-1) 1pt solid;\n",
       "  color: var(--sklearn-color-unfitted-level-1);\n",
       "}\n",
       "\n",
       ".sk-estimator-doc-link.fitted,\n",
       "a:link.sk-estimator-doc-link.fitted,\n",
       "a:visited.sk-estimator-doc-link.fitted {\n",
       "  /* fitted */\n",
       "  border: var(--sklearn-color-fitted-level-1) 1pt solid;\n",
       "  color: var(--sklearn-color-fitted-level-1);\n",
       "}\n",
       "\n",
       "/* On hover */\n",
       "div.sk-estimator:hover .sk-estimator-doc-link:hover,\n",
       ".sk-estimator-doc-link:hover,\n",
       "div.sk-label-container:hover .sk-estimator-doc-link:hover,\n",
       ".sk-estimator-doc-link:hover {\n",
       "  /* unfitted */\n",
       "  background-color: var(--sklearn-color-unfitted-level-3);\n",
       "  color: var(--sklearn-color-background);\n",
       "  text-decoration: none;\n",
       "}\n",
       "\n",
       "div.sk-estimator.fitted:hover .sk-estimator-doc-link.fitted:hover,\n",
       ".sk-estimator-doc-link.fitted:hover,\n",
       "div.sk-label-container:hover .sk-estimator-doc-link.fitted:hover,\n",
       ".sk-estimator-doc-link.fitted:hover {\n",
       "  /* fitted */\n",
       "  background-color: var(--sklearn-color-fitted-level-3);\n",
       "  color: var(--sklearn-color-background);\n",
       "  text-decoration: none;\n",
       "}\n",
       "\n",
       "/* Span, style for the box shown on hovering the info icon */\n",
       ".sk-estimator-doc-link span {\n",
       "  display: none;\n",
       "  z-index: 9999;\n",
       "  position: relative;\n",
       "  font-weight: normal;\n",
       "  right: .2ex;\n",
       "  padding: .5ex;\n",
       "  margin: .5ex;\n",
       "  width: min-content;\n",
       "  min-width: 20ex;\n",
       "  max-width: 50ex;\n",
       "  color: var(--sklearn-color-text);\n",
       "  box-shadow: 2pt 2pt 4pt #999;\n",
       "  /* unfitted */\n",
       "  background: var(--sklearn-color-unfitted-level-0);\n",
       "  border: .5pt solid var(--sklearn-color-unfitted-level-3);\n",
       "}\n",
       "\n",
       ".sk-estimator-doc-link.fitted span {\n",
       "  /* fitted */\n",
       "  background: var(--sklearn-color-fitted-level-0);\n",
       "  border: var(--sklearn-color-fitted-level-3);\n",
       "}\n",
       "\n",
       ".sk-estimator-doc-link:hover span {\n",
       "  display: block;\n",
       "}\n",
       "\n",
       "/* \"?\"-specific style due to the `<a>` HTML tag */\n",
       "\n",
       "#sk-container-id-1 a.estimator_doc_link {\n",
       "  float: right;\n",
       "  font-size: 1rem;\n",
       "  line-height: 1em;\n",
       "  font-family: monospace;\n",
       "  background-color: var(--sklearn-color-background);\n",
       "  border-radius: 1rem;\n",
       "  height: 1rem;\n",
       "  width: 1rem;\n",
       "  text-decoration: none;\n",
       "  /* unfitted */\n",
       "  color: var(--sklearn-color-unfitted-level-1);\n",
       "  border: var(--sklearn-color-unfitted-level-1) 1pt solid;\n",
       "}\n",
       "\n",
       "#sk-container-id-1 a.estimator_doc_link.fitted {\n",
       "  /* fitted */\n",
       "  border: var(--sklearn-color-fitted-level-1) 1pt solid;\n",
       "  color: var(--sklearn-color-fitted-level-1);\n",
       "}\n",
       "\n",
       "/* On hover */\n",
       "#sk-container-id-1 a.estimator_doc_link:hover {\n",
       "  /* unfitted */\n",
       "  background-color: var(--sklearn-color-unfitted-level-3);\n",
       "  color: var(--sklearn-color-background);\n",
       "  text-decoration: none;\n",
       "}\n",
       "\n",
       "#sk-container-id-1 a.estimator_doc_link.fitted:hover {\n",
       "  /* fitted */\n",
       "  background-color: var(--sklearn-color-fitted-level-3);\n",
       "}\n",
       "</style><div id=\"sk-container-id-1\" class=\"sk-top-container\"><div class=\"sk-text-repr-fallback\"><pre>LinearSVC(random_state=17)</pre><b>In a Jupyter environment, please rerun this cell to show the HTML representation or trust the notebook. <br />On GitHub, the HTML representation is unable to render, please try loading this page with nbviewer.org.</b></div><div class=\"sk-container\" hidden><div class=\"sk-item\"><div class=\"sk-estimator fitted sk-toggleable\"><input class=\"sk-toggleable__control sk-hidden--visually\" id=\"sk-estimator-id-1\" type=\"checkbox\" checked><label for=\"sk-estimator-id-1\" class=\"sk-toggleable__label fitted sk-toggleable__label-arrow\"><div><div>LinearSVC</div></div><div><a class=\"sk-estimator-doc-link fitted\" rel=\"noreferrer\" target=\"_blank\" href=\"https://scikit-learn.org/1.6/modules/generated/sklearn.svm.LinearSVC.html\">?<span>Documentation for LinearSVC</span></a><span class=\"sk-estimator-doc-link fitted\">i<span>Fitted</span></span></div></label><div class=\"sk-toggleable__content fitted\"><pre>LinearSVC(random_state=17)</pre></div> </div></div></div></div>"
      ],
      "text/plain": [
       "LinearSVC(random_state=17)"
      ]
     },
     "execution_count": 27,
     "metadata": {},
     "output_type": "execute_result"
    }
   ],
   "source": [
    "\n",
    "svc.fit(X_train_scaled, y_train)"
   ]
  },
  {
   "cell_type": "code",
   "execution_count": 28,
   "metadata": {},
   "outputs": [
    {
     "data": {
      "text/plain": [
       "0.9599592806243638"
      ]
     },
     "execution_count": 28,
     "metadata": {},
     "output_type": "execute_result"
    }
   ],
   "source": [
    "svc.score(X_test_scaled, y_test)"
   ]
  },
  {
   "cell_type": "code",
   "execution_count": null,
   "metadata": {
    "_uuid": "3f0573b69142f89a7a4f4852c4a1366b7f85270b",
    "trusted": true
   },
   "outputs": [
    {
     "name": "stdout",
     "output_type": "stream",
     "text": [
      "CPU times: user 39 μs, sys: 0 ns, total: 39 μs\n",
      "Wall time: 43.4 μs\n"
     ]
    }
   ],
   "source": [
    "%%time\n",
    "# Your code here\n",
    "best_svc = GridSearchCV(svc, svc_params, cv=3, n_jobs=-1)"
   ]
  },
  {
   "cell_type": "code",
   "execution_count": 30,
   "metadata": {},
   "outputs": [
    {
     "name": "stderr",
     "output_type": "stream",
     "text": [
      "/home/bahacelik/repos/internship-deliverables/mlcourse/.venv/lib/python3.12/site-packages/sklearn/svm/_base.py:1249: ConvergenceWarning: Liblinear failed to converge, increase the number of iterations.\n",
      "  warnings.warn(\n",
      "/home/bahacelik/repos/internship-deliverables/mlcourse/.venv/lib/python3.12/site-packages/sklearn/svm/_base.py:1249: ConvergenceWarning: Liblinear failed to converge, increase the number of iterations.\n",
      "  warnings.warn(\n",
      "/home/bahacelik/repos/internship-deliverables/mlcourse/.venv/lib/python3.12/site-packages/sklearn/svm/_base.py:1249: ConvergenceWarning: Liblinear failed to converge, increase the number of iterations.\n",
      "  warnings.warn(\n"
     ]
    },
    {
     "data": {
      "text/html": [
       "<style>#sk-container-id-2 {\n",
       "  /* Definition of color scheme common for light and dark mode */\n",
       "  --sklearn-color-text: #000;\n",
       "  --sklearn-color-text-muted: #666;\n",
       "  --sklearn-color-line: gray;\n",
       "  /* Definition of color scheme for unfitted estimators */\n",
       "  --sklearn-color-unfitted-level-0: #fff5e6;\n",
       "  --sklearn-color-unfitted-level-1: #f6e4d2;\n",
       "  --sklearn-color-unfitted-level-2: #ffe0b3;\n",
       "  --sklearn-color-unfitted-level-3: chocolate;\n",
       "  /* Definition of color scheme for fitted estimators */\n",
       "  --sklearn-color-fitted-level-0: #f0f8ff;\n",
       "  --sklearn-color-fitted-level-1: #d4ebff;\n",
       "  --sklearn-color-fitted-level-2: #b3dbfd;\n",
       "  --sklearn-color-fitted-level-3: cornflowerblue;\n",
       "\n",
       "  /* Specific color for light theme */\n",
       "  --sklearn-color-text-on-default-background: var(--sg-text-color, var(--theme-code-foreground, var(--jp-content-font-color1, black)));\n",
       "  --sklearn-color-background: var(--sg-background-color, var(--theme-background, var(--jp-layout-color0, white)));\n",
       "  --sklearn-color-border-box: var(--sg-text-color, var(--theme-code-foreground, var(--jp-content-font-color1, black)));\n",
       "  --sklearn-color-icon: #696969;\n",
       "\n",
       "  @media (prefers-color-scheme: dark) {\n",
       "    /* Redefinition of color scheme for dark theme */\n",
       "    --sklearn-color-text-on-default-background: var(--sg-text-color, var(--theme-code-foreground, var(--jp-content-font-color1, white)));\n",
       "    --sklearn-color-background: var(--sg-background-color, var(--theme-background, var(--jp-layout-color0, #111)));\n",
       "    --sklearn-color-border-box: var(--sg-text-color, var(--theme-code-foreground, var(--jp-content-font-color1, white)));\n",
       "    --sklearn-color-icon: #878787;\n",
       "  }\n",
       "}\n",
       "\n",
       "#sk-container-id-2 {\n",
       "  color: var(--sklearn-color-text);\n",
       "}\n",
       "\n",
       "#sk-container-id-2 pre {\n",
       "  padding: 0;\n",
       "}\n",
       "\n",
       "#sk-container-id-2 input.sk-hidden--visually {\n",
       "  border: 0;\n",
       "  clip: rect(1px 1px 1px 1px);\n",
       "  clip: rect(1px, 1px, 1px, 1px);\n",
       "  height: 1px;\n",
       "  margin: -1px;\n",
       "  overflow: hidden;\n",
       "  padding: 0;\n",
       "  position: absolute;\n",
       "  width: 1px;\n",
       "}\n",
       "\n",
       "#sk-container-id-2 div.sk-dashed-wrapped {\n",
       "  border: 1px dashed var(--sklearn-color-line);\n",
       "  margin: 0 0.4em 0.5em 0.4em;\n",
       "  box-sizing: border-box;\n",
       "  padding-bottom: 0.4em;\n",
       "  background-color: var(--sklearn-color-background);\n",
       "}\n",
       "\n",
       "#sk-container-id-2 div.sk-container {\n",
       "  /* jupyter's `normalize.less` sets `[hidden] { display: none; }`\n",
       "     but bootstrap.min.css set `[hidden] { display: none !important; }`\n",
       "     so we also need the `!important` here to be able to override the\n",
       "     default hidden behavior on the sphinx rendered scikit-learn.org.\n",
       "     See: https://github.com/scikit-learn/scikit-learn/issues/21755 */\n",
       "  display: inline-block !important;\n",
       "  position: relative;\n",
       "}\n",
       "\n",
       "#sk-container-id-2 div.sk-text-repr-fallback {\n",
       "  display: none;\n",
       "}\n",
       "\n",
       "div.sk-parallel-item,\n",
       "div.sk-serial,\n",
       "div.sk-item {\n",
       "  /* draw centered vertical line to link estimators */\n",
       "  background-image: linear-gradient(var(--sklearn-color-text-on-default-background), var(--sklearn-color-text-on-default-background));\n",
       "  background-size: 2px 100%;\n",
       "  background-repeat: no-repeat;\n",
       "  background-position: center center;\n",
       "}\n",
       "\n",
       "/* Parallel-specific style estimator block */\n",
       "\n",
       "#sk-container-id-2 div.sk-parallel-item::after {\n",
       "  content: \"\";\n",
       "  width: 100%;\n",
       "  border-bottom: 2px solid var(--sklearn-color-text-on-default-background);\n",
       "  flex-grow: 1;\n",
       "}\n",
       "\n",
       "#sk-container-id-2 div.sk-parallel {\n",
       "  display: flex;\n",
       "  align-items: stretch;\n",
       "  justify-content: center;\n",
       "  background-color: var(--sklearn-color-background);\n",
       "  position: relative;\n",
       "}\n",
       "\n",
       "#sk-container-id-2 div.sk-parallel-item {\n",
       "  display: flex;\n",
       "  flex-direction: column;\n",
       "}\n",
       "\n",
       "#sk-container-id-2 div.sk-parallel-item:first-child::after {\n",
       "  align-self: flex-end;\n",
       "  width: 50%;\n",
       "}\n",
       "\n",
       "#sk-container-id-2 div.sk-parallel-item:last-child::after {\n",
       "  align-self: flex-start;\n",
       "  width: 50%;\n",
       "}\n",
       "\n",
       "#sk-container-id-2 div.sk-parallel-item:only-child::after {\n",
       "  width: 0;\n",
       "}\n",
       "\n",
       "/* Serial-specific style estimator block */\n",
       "\n",
       "#sk-container-id-2 div.sk-serial {\n",
       "  display: flex;\n",
       "  flex-direction: column;\n",
       "  align-items: center;\n",
       "  background-color: var(--sklearn-color-background);\n",
       "  padding-right: 1em;\n",
       "  padding-left: 1em;\n",
       "}\n",
       "\n",
       "\n",
       "/* Toggleable style: style used for estimator/Pipeline/ColumnTransformer box that is\n",
       "clickable and can be expanded/collapsed.\n",
       "- Pipeline and ColumnTransformer use this feature and define the default style\n",
       "- Estimators will overwrite some part of the style using the `sk-estimator` class\n",
       "*/\n",
       "\n",
       "/* Pipeline and ColumnTransformer style (default) */\n",
       "\n",
       "#sk-container-id-2 div.sk-toggleable {\n",
       "  /* Default theme specific background. It is overwritten whether we have a\n",
       "  specific estimator or a Pipeline/ColumnTransformer */\n",
       "  background-color: var(--sklearn-color-background);\n",
       "}\n",
       "\n",
       "/* Toggleable label */\n",
       "#sk-container-id-2 label.sk-toggleable__label {\n",
       "  cursor: pointer;\n",
       "  display: flex;\n",
       "  width: 100%;\n",
       "  margin-bottom: 0;\n",
       "  padding: 0.5em;\n",
       "  box-sizing: border-box;\n",
       "  text-align: center;\n",
       "  align-items: start;\n",
       "  justify-content: space-between;\n",
       "  gap: 0.5em;\n",
       "}\n",
       "\n",
       "#sk-container-id-2 label.sk-toggleable__label .caption {\n",
       "  font-size: 0.6rem;\n",
       "  font-weight: lighter;\n",
       "  color: var(--sklearn-color-text-muted);\n",
       "}\n",
       "\n",
       "#sk-container-id-2 label.sk-toggleable__label-arrow:before {\n",
       "  /* Arrow on the left of the label */\n",
       "  content: \"▸\";\n",
       "  float: left;\n",
       "  margin-right: 0.25em;\n",
       "  color: var(--sklearn-color-icon);\n",
       "}\n",
       "\n",
       "#sk-container-id-2 label.sk-toggleable__label-arrow:hover:before {\n",
       "  color: var(--sklearn-color-text);\n",
       "}\n",
       "\n",
       "/* Toggleable content - dropdown */\n",
       "\n",
       "#sk-container-id-2 div.sk-toggleable__content {\n",
       "  max-height: 0;\n",
       "  max-width: 0;\n",
       "  overflow: hidden;\n",
       "  text-align: left;\n",
       "  /* unfitted */\n",
       "  background-color: var(--sklearn-color-unfitted-level-0);\n",
       "}\n",
       "\n",
       "#sk-container-id-2 div.sk-toggleable__content.fitted {\n",
       "  /* fitted */\n",
       "  background-color: var(--sklearn-color-fitted-level-0);\n",
       "}\n",
       "\n",
       "#sk-container-id-2 div.sk-toggleable__content pre {\n",
       "  margin: 0.2em;\n",
       "  border-radius: 0.25em;\n",
       "  color: var(--sklearn-color-text);\n",
       "  /* unfitted */\n",
       "  background-color: var(--sklearn-color-unfitted-level-0);\n",
       "}\n",
       "\n",
       "#sk-container-id-2 div.sk-toggleable__content.fitted pre {\n",
       "  /* unfitted */\n",
       "  background-color: var(--sklearn-color-fitted-level-0);\n",
       "}\n",
       "\n",
       "#sk-container-id-2 input.sk-toggleable__control:checked~div.sk-toggleable__content {\n",
       "  /* Expand drop-down */\n",
       "  max-height: 200px;\n",
       "  max-width: 100%;\n",
       "  overflow: auto;\n",
       "}\n",
       "\n",
       "#sk-container-id-2 input.sk-toggleable__control:checked~label.sk-toggleable__label-arrow:before {\n",
       "  content: \"▾\";\n",
       "}\n",
       "\n",
       "/* Pipeline/ColumnTransformer-specific style */\n",
       "\n",
       "#sk-container-id-2 div.sk-label input.sk-toggleable__control:checked~label.sk-toggleable__label {\n",
       "  color: var(--sklearn-color-text);\n",
       "  background-color: var(--sklearn-color-unfitted-level-2);\n",
       "}\n",
       "\n",
       "#sk-container-id-2 div.sk-label.fitted input.sk-toggleable__control:checked~label.sk-toggleable__label {\n",
       "  background-color: var(--sklearn-color-fitted-level-2);\n",
       "}\n",
       "\n",
       "/* Estimator-specific style */\n",
       "\n",
       "/* Colorize estimator box */\n",
       "#sk-container-id-2 div.sk-estimator input.sk-toggleable__control:checked~label.sk-toggleable__label {\n",
       "  /* unfitted */\n",
       "  background-color: var(--sklearn-color-unfitted-level-2);\n",
       "}\n",
       "\n",
       "#sk-container-id-2 div.sk-estimator.fitted input.sk-toggleable__control:checked~label.sk-toggleable__label {\n",
       "  /* fitted */\n",
       "  background-color: var(--sklearn-color-fitted-level-2);\n",
       "}\n",
       "\n",
       "#sk-container-id-2 div.sk-label label.sk-toggleable__label,\n",
       "#sk-container-id-2 div.sk-label label {\n",
       "  /* The background is the default theme color */\n",
       "  color: var(--sklearn-color-text-on-default-background);\n",
       "}\n",
       "\n",
       "/* On hover, darken the color of the background */\n",
       "#sk-container-id-2 div.sk-label:hover label.sk-toggleable__label {\n",
       "  color: var(--sklearn-color-text);\n",
       "  background-color: var(--sklearn-color-unfitted-level-2);\n",
       "}\n",
       "\n",
       "/* Label box, darken color on hover, fitted */\n",
       "#sk-container-id-2 div.sk-label.fitted:hover label.sk-toggleable__label.fitted {\n",
       "  color: var(--sklearn-color-text);\n",
       "  background-color: var(--sklearn-color-fitted-level-2);\n",
       "}\n",
       "\n",
       "/* Estimator label */\n",
       "\n",
       "#sk-container-id-2 div.sk-label label {\n",
       "  font-family: monospace;\n",
       "  font-weight: bold;\n",
       "  display: inline-block;\n",
       "  line-height: 1.2em;\n",
       "}\n",
       "\n",
       "#sk-container-id-2 div.sk-label-container {\n",
       "  text-align: center;\n",
       "}\n",
       "\n",
       "/* Estimator-specific */\n",
       "#sk-container-id-2 div.sk-estimator {\n",
       "  font-family: monospace;\n",
       "  border: 1px dotted var(--sklearn-color-border-box);\n",
       "  border-radius: 0.25em;\n",
       "  box-sizing: border-box;\n",
       "  margin-bottom: 0.5em;\n",
       "  /* unfitted */\n",
       "  background-color: var(--sklearn-color-unfitted-level-0);\n",
       "}\n",
       "\n",
       "#sk-container-id-2 div.sk-estimator.fitted {\n",
       "  /* fitted */\n",
       "  background-color: var(--sklearn-color-fitted-level-0);\n",
       "}\n",
       "\n",
       "/* on hover */\n",
       "#sk-container-id-2 div.sk-estimator:hover {\n",
       "  /* unfitted */\n",
       "  background-color: var(--sklearn-color-unfitted-level-2);\n",
       "}\n",
       "\n",
       "#sk-container-id-2 div.sk-estimator.fitted:hover {\n",
       "  /* fitted */\n",
       "  background-color: var(--sklearn-color-fitted-level-2);\n",
       "}\n",
       "\n",
       "/* Specification for estimator info (e.g. \"i\" and \"?\") */\n",
       "\n",
       "/* Common style for \"i\" and \"?\" */\n",
       "\n",
       ".sk-estimator-doc-link,\n",
       "a:link.sk-estimator-doc-link,\n",
       "a:visited.sk-estimator-doc-link {\n",
       "  float: right;\n",
       "  font-size: smaller;\n",
       "  line-height: 1em;\n",
       "  font-family: monospace;\n",
       "  background-color: var(--sklearn-color-background);\n",
       "  border-radius: 1em;\n",
       "  height: 1em;\n",
       "  width: 1em;\n",
       "  text-decoration: none !important;\n",
       "  margin-left: 0.5em;\n",
       "  text-align: center;\n",
       "  /* unfitted */\n",
       "  border: var(--sklearn-color-unfitted-level-1) 1pt solid;\n",
       "  color: var(--sklearn-color-unfitted-level-1);\n",
       "}\n",
       "\n",
       ".sk-estimator-doc-link.fitted,\n",
       "a:link.sk-estimator-doc-link.fitted,\n",
       "a:visited.sk-estimator-doc-link.fitted {\n",
       "  /* fitted */\n",
       "  border: var(--sklearn-color-fitted-level-1) 1pt solid;\n",
       "  color: var(--sklearn-color-fitted-level-1);\n",
       "}\n",
       "\n",
       "/* On hover */\n",
       "div.sk-estimator:hover .sk-estimator-doc-link:hover,\n",
       ".sk-estimator-doc-link:hover,\n",
       "div.sk-label-container:hover .sk-estimator-doc-link:hover,\n",
       ".sk-estimator-doc-link:hover {\n",
       "  /* unfitted */\n",
       "  background-color: var(--sklearn-color-unfitted-level-3);\n",
       "  color: var(--sklearn-color-background);\n",
       "  text-decoration: none;\n",
       "}\n",
       "\n",
       "div.sk-estimator.fitted:hover .sk-estimator-doc-link.fitted:hover,\n",
       ".sk-estimator-doc-link.fitted:hover,\n",
       "div.sk-label-container:hover .sk-estimator-doc-link.fitted:hover,\n",
       ".sk-estimator-doc-link.fitted:hover {\n",
       "  /* fitted */\n",
       "  background-color: var(--sklearn-color-fitted-level-3);\n",
       "  color: var(--sklearn-color-background);\n",
       "  text-decoration: none;\n",
       "}\n",
       "\n",
       "/* Span, style for the box shown on hovering the info icon */\n",
       ".sk-estimator-doc-link span {\n",
       "  display: none;\n",
       "  z-index: 9999;\n",
       "  position: relative;\n",
       "  font-weight: normal;\n",
       "  right: .2ex;\n",
       "  padding: .5ex;\n",
       "  margin: .5ex;\n",
       "  width: min-content;\n",
       "  min-width: 20ex;\n",
       "  max-width: 50ex;\n",
       "  color: var(--sklearn-color-text);\n",
       "  box-shadow: 2pt 2pt 4pt #999;\n",
       "  /* unfitted */\n",
       "  background: var(--sklearn-color-unfitted-level-0);\n",
       "  border: .5pt solid var(--sklearn-color-unfitted-level-3);\n",
       "}\n",
       "\n",
       ".sk-estimator-doc-link.fitted span {\n",
       "  /* fitted */\n",
       "  background: var(--sklearn-color-fitted-level-0);\n",
       "  border: var(--sklearn-color-fitted-level-3);\n",
       "}\n",
       "\n",
       ".sk-estimator-doc-link:hover span {\n",
       "  display: block;\n",
       "}\n",
       "\n",
       "/* \"?\"-specific style due to the `<a>` HTML tag */\n",
       "\n",
       "#sk-container-id-2 a.estimator_doc_link {\n",
       "  float: right;\n",
       "  font-size: 1rem;\n",
       "  line-height: 1em;\n",
       "  font-family: monospace;\n",
       "  background-color: var(--sklearn-color-background);\n",
       "  border-radius: 1rem;\n",
       "  height: 1rem;\n",
       "  width: 1rem;\n",
       "  text-decoration: none;\n",
       "  /* unfitted */\n",
       "  color: var(--sklearn-color-unfitted-level-1);\n",
       "  border: var(--sklearn-color-unfitted-level-1) 1pt solid;\n",
       "}\n",
       "\n",
       "#sk-container-id-2 a.estimator_doc_link.fitted {\n",
       "  /* fitted */\n",
       "  border: var(--sklearn-color-fitted-level-1) 1pt solid;\n",
       "  color: var(--sklearn-color-fitted-level-1);\n",
       "}\n",
       "\n",
       "/* On hover */\n",
       "#sk-container-id-2 a.estimator_doc_link:hover {\n",
       "  /* unfitted */\n",
       "  background-color: var(--sklearn-color-unfitted-level-3);\n",
       "  color: var(--sklearn-color-background);\n",
       "  text-decoration: none;\n",
       "}\n",
       "\n",
       "#sk-container-id-2 a.estimator_doc_link.fitted:hover {\n",
       "  /* fitted */\n",
       "  background-color: var(--sklearn-color-fitted-level-3);\n",
       "}\n",
       "</style><div id=\"sk-container-id-2\" class=\"sk-top-container\"><div class=\"sk-text-repr-fallback\"><pre>GridSearchCV(cv=3, estimator=LinearSVC(random_state=17), n_jobs=-1,\n",
       "             param_grid={&#x27;C&#x27;: [0.001, 0.01, 0.1, 1, 10]})</pre><b>In a Jupyter environment, please rerun this cell to show the HTML representation or trust the notebook. <br />On GitHub, the HTML representation is unable to render, please try loading this page with nbviewer.org.</b></div><div class=\"sk-container\" hidden><div class=\"sk-item sk-dashed-wrapped\"><div class=\"sk-label-container\"><div class=\"sk-label fitted sk-toggleable\"><input class=\"sk-toggleable__control sk-hidden--visually\" id=\"sk-estimator-id-2\" type=\"checkbox\" ><label for=\"sk-estimator-id-2\" class=\"sk-toggleable__label fitted sk-toggleable__label-arrow\"><div><div>GridSearchCV</div></div><div><a class=\"sk-estimator-doc-link fitted\" rel=\"noreferrer\" target=\"_blank\" href=\"https://scikit-learn.org/1.6/modules/generated/sklearn.model_selection.GridSearchCV.html\">?<span>Documentation for GridSearchCV</span></a><span class=\"sk-estimator-doc-link fitted\">i<span>Fitted</span></span></div></label><div class=\"sk-toggleable__content fitted\"><pre>GridSearchCV(cv=3, estimator=LinearSVC(random_state=17), n_jobs=-1,\n",
       "             param_grid={&#x27;C&#x27;: [0.001, 0.01, 0.1, 1, 10]})</pre></div> </div></div><div class=\"sk-parallel\"><div class=\"sk-parallel-item\"><div class=\"sk-item\"><div class=\"sk-label-container\"><div class=\"sk-label fitted sk-toggleable\"><input class=\"sk-toggleable__control sk-hidden--visually\" id=\"sk-estimator-id-3\" type=\"checkbox\" ><label for=\"sk-estimator-id-3\" class=\"sk-toggleable__label fitted sk-toggleable__label-arrow\"><div><div>best_estimator_: LinearSVC</div></div></label><div class=\"sk-toggleable__content fitted\"><pre>LinearSVC(C=0.1, random_state=17)</pre></div> </div></div><div class=\"sk-serial\"><div class=\"sk-item\"><div class=\"sk-estimator fitted sk-toggleable\"><input class=\"sk-toggleable__control sk-hidden--visually\" id=\"sk-estimator-id-4\" type=\"checkbox\" ><label for=\"sk-estimator-id-4\" class=\"sk-toggleable__label fitted sk-toggleable__label-arrow\"><div><div>LinearSVC</div></div><div><a class=\"sk-estimator-doc-link fitted\" rel=\"noreferrer\" target=\"_blank\" href=\"https://scikit-learn.org/1.6/modules/generated/sklearn.svm.LinearSVC.html\">?<span>Documentation for LinearSVC</span></a></div></label><div class=\"sk-toggleable__content fitted\"><pre>LinearSVC(C=0.1, random_state=17)</pre></div> </div></div></div></div></div></div></div></div></div>"
      ],
      "text/plain": [
       "GridSearchCV(cv=3, estimator=LinearSVC(random_state=17), n_jobs=-1,\n",
       "             param_grid={'C': [0.001, 0.01, 0.1, 1, 10]})"
      ]
     },
     "execution_count": 30,
     "metadata": {},
     "output_type": "execute_result"
    }
   ],
   "source": [
    "best_svc.fit(X_train_scaled, y_train)"
   ]
  },
  {
   "cell_type": "code",
   "execution_count": 31,
   "metadata": {
    "_uuid": "4cff688492768e0f226b0aff08d4eb07450ed4ce",
    "trusted": true
   },
   "outputs": [
    {
     "data": {
      "text/plain": [
       "({'C': 0.1}, np.float64(0.9381145554917194))"
      ]
     },
     "execution_count": 31,
     "metadata": {},
     "output_type": "execute_result"
    }
   ],
   "source": [
    "best_svc.best_params_, best_svc.best_score_"
   ]
  },
  {
   "cell_type": "markdown",
   "metadata": {
    "_uuid": "b6214f9ec00411039cde3237ed7891053d9d8c5d"
   },
   "source": [
    "**Question 7**<br>\n",
    "Which value of the hyperparameter `C` was chosen the best on the basis of cross-validation? <br>\n",
    "\n",
    "**Answer options:**\n",
    "- 0.001\n",
    "- 0.01\n",
    "- 0.1 \n",
    "- 1\n",
    "- 10"
   ]
  },
  {
   "cell_type": "markdown",
   "metadata": {},
   "source": [
    "Answer: 1"
   ]
  },
  {
   "cell_type": "code",
   "execution_count": 32,
   "metadata": {
    "_uuid": "02e74bf62e37fbad5df8a685d6b06b2c9a48daaf",
    "trusted": true
   },
   "outputs": [],
   "source": [
    "y_predicted = best_svc.predict(X_test_scaled)"
   ]
  },
  {
   "cell_type": "code",
   "execution_count": 36,
   "metadata": {},
   "outputs": [
    {
     "data": {
      "text/plain": [
       "array([5, 5, 5, ..., 2, 2, 2], shape=(2947,))"
      ]
     },
     "execution_count": 36,
     "metadata": {},
     "output_type": "execute_result"
    }
   ],
   "source": [
    "y_predicted"
   ]
  },
  {
   "cell_type": "code",
   "execution_count": 35,
   "metadata": {
    "_uuid": "3e9804082d8a9eb666149074a8d1983ccb19ae2d",
    "trusted": true
   },
   "outputs": [
    {
     "data": {
      "text/html": [
       "<div>\n",
       "<style scoped>\n",
       "    .dataframe tbody tr th:only-of-type {\n",
       "        vertical-align: middle;\n",
       "    }\n",
       "\n",
       "    .dataframe tbody tr th {\n",
       "        vertical-align: top;\n",
       "    }\n",
       "\n",
       "    .dataframe thead th {\n",
       "        text-align: right;\n",
       "    }\n",
       "</style>\n",
       "<table border=\"1\" class=\"dataframe\">\n",
       "  <thead>\n",
       "    <tr style=\"text-align: right;\">\n",
       "      <th></th>\n",
       "      <th>walking</th>\n",
       "      <th>climbing up the stairs</th>\n",
       "      <th>going down the stairs</th>\n",
       "      <th>sitting</th>\n",
       "      <th>standing</th>\n",
       "      <th>laying</th>\n",
       "      <th>all</th>\n",
       "    </tr>\n",
       "  </thead>\n",
       "  <tbody>\n",
       "    <tr>\n",
       "      <th>walking</th>\n",
       "      <td>479</td>\n",
       "      <td>11</td>\n",
       "      <td>4</td>\n",
       "      <td>2</td>\n",
       "      <td>0</td>\n",
       "      <td>0</td>\n",
       "      <td>496</td>\n",
       "    </tr>\n",
       "    <tr>\n",
       "      <th>climbing up the stairs</th>\n",
       "      <td>4</td>\n",
       "      <td>465</td>\n",
       "      <td>1</td>\n",
       "      <td>1</td>\n",
       "      <td>0</td>\n",
       "      <td>0</td>\n",
       "      <td>471</td>\n",
       "    </tr>\n",
       "    <tr>\n",
       "      <th>going down the stairs</th>\n",
       "      <td>1</td>\n",
       "      <td>2</td>\n",
       "      <td>416</td>\n",
       "      <td>1</td>\n",
       "      <td>0</td>\n",
       "      <td>0</td>\n",
       "      <td>420</td>\n",
       "    </tr>\n",
       "    <tr>\n",
       "      <th>sitting</th>\n",
       "      <td>0</td>\n",
       "      <td>4</td>\n",
       "      <td>0</td>\n",
       "      <td>433</td>\n",
       "      <td>52</td>\n",
       "      <td>2</td>\n",
       "      <td>491</td>\n",
       "    </tr>\n",
       "    <tr>\n",
       "      <th>standing</th>\n",
       "      <td>0</td>\n",
       "      <td>0</td>\n",
       "      <td>0</td>\n",
       "      <td>16</td>\n",
       "      <td>516</td>\n",
       "      <td>0</td>\n",
       "      <td>532</td>\n",
       "    </tr>\n",
       "    <tr>\n",
       "      <th>laying</th>\n",
       "      <td>0</td>\n",
       "      <td>0</td>\n",
       "      <td>0</td>\n",
       "      <td>0</td>\n",
       "      <td>7</td>\n",
       "      <td>530</td>\n",
       "      <td>537</td>\n",
       "    </tr>\n",
       "    <tr>\n",
       "      <th>all</th>\n",
       "      <td>484</td>\n",
       "      <td>482</td>\n",
       "      <td>421</td>\n",
       "      <td>453</td>\n",
       "      <td>575</td>\n",
       "      <td>532</td>\n",
       "      <td>2947</td>\n",
       "    </tr>\n",
       "  </tbody>\n",
       "</table>\n",
       "</div>"
      ],
      "text/plain": [
       "                        walking  climbing up the stairs  \\\n",
       "walking                     479                      11   \n",
       "climbing up the stairs        4                     465   \n",
       "going down the stairs         1                       2   \n",
       "sitting                       0                       4   \n",
       "standing                      0                       0   \n",
       "laying                        0                       0   \n",
       "all                         484                     482   \n",
       "\n",
       "                        going down the stairs  sitting  standing  laying   all  \n",
       "walking                                     4        2         0       0   496  \n",
       "climbing up the stairs                      1        1         0       0   471  \n",
       "going down the stairs                     416        1         0       0   420  \n",
       "sitting                                     0      433        52       2   491  \n",
       "standing                                    0       16       516       0   532  \n",
       "laying                                      0        0         7     530   537  \n",
       "all                                       421      453       575     532  2947  "
      ]
     },
     "execution_count": 35,
     "metadata": {},
     "output_type": "execute_result"
    }
   ],
   "source": [
    "tab = pd.crosstab(y_test, y_predicted, margins=True)\n",
    "tab.index = ['walking', 'climbing up the stairs',\n",
    "             'going down the stairs', 'sitting', 'standing', 'laying', 'all']\n",
    "tab.columns = ['walking', 'climbing up the stairs',\n",
    "             'going down the stairs', 'sitting', 'standing', 'laying', 'all']\n",
    "tab"
   ]
  },
  {
   "cell_type": "markdown",
   "metadata": {
    "_uuid": "f1bae145f1034a9c42679e73240cd0860bc207c6"
   },
   "source": [
    "**Question 8:** <br>\n",
    "Which activity type is worst detected by SVM in terms of precision? Recall?<br>\n",
    "\n",
    "**Answer options:**\n",
    "- precision – going up the stairs, recall – laying\n",
    "- precision – laying, recall – sitting\n",
    "- precision – walking, recall – walking\n",
    "- precision – standing, recall – sitting "
   ]
  },
  {
   "cell_type": "code",
   "execution_count": 47,
   "metadata": {},
   "outputs": [
    {
     "name": "stdout",
     "output_type": "stream",
     "text": [
      "Class:  1\n",
      "Precision:  [0.98966942 0.96473029 0.98812352 0.95584989 0.8973913  0.9962406 ]\n",
      "Recall:  [0.96572581 0.98726115 0.99047619 0.88187373 0.96992481 0.98696462]\n",
      "Class:  2\n",
      "Precision:  [0.98966942 0.96473029 0.98812352 0.95584989 0.8973913  0.9962406 ]\n",
      "Recall:  [0.96572581 0.98726115 0.99047619 0.88187373 0.96992481 0.98696462]\n",
      "Class:  3\n",
      "Precision:  [0.98966942 0.96473029 0.98812352 0.95584989 0.8973913  0.9962406 ]\n",
      "Recall:  [0.96572581 0.98726115 0.99047619 0.88187373 0.96992481 0.98696462]\n",
      "Class:  4\n",
      "Precision:  [0.98966942 0.96473029 0.98812352 0.95584989 0.8973913  0.9962406 ]\n",
      "Recall:  [0.96572581 0.98726115 0.99047619 0.88187373 0.96992481 0.98696462]\n",
      "Class:  5\n",
      "Precision:  [0.98966942 0.96473029 0.98812352 0.95584989 0.8973913  0.9962406 ]\n",
      "Recall:  [0.96572581 0.98726115 0.99047619 0.88187373 0.96992481 0.98696462]\n",
      "Class:  6\n",
      "Precision:  [0.98966942 0.96473029 0.98812352 0.95584989 0.8973913  0.9962406 ]\n",
      "Recall:  [0.96572581 0.98726115 0.99047619 0.88187373 0.96992481 0.98696462]\n"
     ]
    }
   ],
   "source": [
    "precision, recall, f1, support = metrics.precision_recall_fscore_support(\n",
    "    y_test, y_predicted\n",
    ")\n",
    "for i in range(len(precision)):\n",
    "    print(\"Class: \", best_svc.classes_[i])\n",
    "    print(\"Precision: \", precision)\n",
    "    print(\"Recall: \", recall)\n"
   ]
  },
  {
   "cell_type": "markdown",
   "metadata": {},
   "source": [
    "Answer: precision-standing, recall-sitting"
   ]
  },
  {
   "cell_type": "markdown",
   "metadata": {
    "_uuid": "472b5dadcd567b019cc6cd729a3917459207df14"
   },
   "source": [
    "Finally, do the same thing as in Question 7, but add PCA.\n",
    "\n",
    "- Use `X_train_scaled` and` X_test_scaled`\n",
    "- Train the same PCA as before, on the scaled training set, apply scaling to the test set\n",
    "- Choose the hyperparameter `C` via cross-validation on the training set with PCA-transformation. You will notice how much faster it works now.\n",
    "\n",
    "**Question 9:** <br>\n",
    "What is the difference between the best quality (accuracy) for cross-validation in the case of all 561 initial characteristics and in the second case, when the principal component method was applied? Round to the nearest percent. <br>\n",
    "\n",
    "**Answer options:**\n",
    "- quality is the same\n",
    "- 2%\n",
    "- 4%\n",
    "- 10%\n",
    "- 20%"
   ]
  },
  {
   "cell_type": "code",
   "execution_count": 58,
   "metadata": {},
   "outputs": [
    {
     "name": "stdout",
     "output_type": "stream",
     "text": [
      "Best parameters: {'C': 0.1}\n",
      "Best cross-validation score: 0.8983982658750974\n"
     ]
    }
   ],
   "source": [
    "# Step 1: Fit PCA on the training data only\n",
    "pca = PCA(n_components=0.9)  # You might want to specify n_components\n",
    "pca.fit(X_train_scaled)  # Fit PCA on training data\n",
    "\n",
    "# Step 2: Transform both training and test data using the fitted PCA\n",
    "X_train_scaled_pca = pca.transform(X_train_scaled)\n",
    "X_test_scaled_pca = pca.transform(X_test_scaled)  # Only transform, don't fit again\n",
    "\n",
    "# Step 3: Set up GridSearchCV with LinearSVC\n",
    "svc = LinearSVC(random_state=RANDOM_STATE)\n",
    "svc_params = {'C': [0.001, 0.01, 0.1, 1, 10]}\n",
    "best_svc = GridSearchCV(svc, svc_params, cv=3, n_jobs=-1)\n",
    "\n",
    "# Step 4: Fit GridSearchCV on the PCA-transformed training data\n",
    "best_svc.fit(X_train_scaled_pca, y_train)\n",
    "\n",
    "# Step 5: Make predictions on the test set\n",
    "y_pred = best_svc.predict(X_test_scaled_pca)\n",
    "\n",
    "# Optional: Print the best parameters found\n",
    "print(\"Best parameters:\", best_svc.best_params_)\n",
    "print(\"Best cross-validation score:\", best_svc.best_score_)\n"
   ]
  },
  {
   "cell_type": "code",
   "execution_count": 59,
   "metadata": {},
   "outputs": [],
   "source": [
    "\n",
    "y_predicted_pca = best_svc.predict(X_test_scaled_pca)"
   ]
  },
  {
   "cell_type": "markdown",
   "metadata": {
    "_uuid": "01dc096cb4ea5717d8709f2a7581574211753cf8"
   },
   "source": [
    "**Question 10:** <br>\n",
    "Select all the correct statements:\n",
    "\n",
    "**Answer options:**\n",
    "- Principal component analysis in this case allowed to reduce the model training time, while the quality (mean cross-validation accuracy) suffered greatly, by more than 10%\n",
    "- PCA can be used to visualize data, but there are better methods for this task, for example, tSNE. However, PCA has lower computational complexity \n",
    "- PCA builds linear combinations of initial features, and in some applications they might be poorly interpreted by humans "
   ]
  }
 ],
 "metadata": {
  "kaggle": {
   "accelerator": "none",
   "dataSources": [
    {
     "datasetId": 32132,
     "sourceId": 205932,
     "sourceType": "datasetVersion"
    }
   ],
   "dockerImageVersionId": 22192,
   "isGpuEnabled": false,
   "isInternetEnabled": false,
   "language": "python",
   "sourceType": "notebook"
  },
  "kernelspec": {
   "display_name": ".venv",
   "language": "python",
   "name": "python3"
  },
  "language_info": {
   "codemirror_mode": {
    "name": "ipython",
    "version": 3
   },
   "file_extension": ".py",
   "mimetype": "text/x-python",
   "name": "python",
   "nbconvert_exporter": "python",
   "pygments_lexer": "ipython3",
   "version": "3.12.3"
  }
 },
 "nbformat": 4,
 "nbformat_minor": 4
}
