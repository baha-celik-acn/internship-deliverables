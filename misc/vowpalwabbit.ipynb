{
 "cells": [
  {
   "cell_type": "code",
   "execution_count": 26,
   "id": "9b691322",
   "metadata": {},
   "outputs": [],
   "source": [
    "from sklearn.datasets import fetch_20newsgroups\n",
    "import pkg_resources\n",
    "import vowpalwabbit as vw\n",
    "import numpy as np\n",
    "import pandas as pd\n",
    "import regex as re\n",
    "from sklearn.model_selection import train_test_split\n",
    "import os\n",
    "import matplotlib.pyplot as plt\n",
    "from sklearn.metrics import roc_auc_score, roc_curve, accuracy_score, confusion_matrix\n",
    "from sklearn.preprocessing import LabelEncoder"
   ]
  },
  {
   "cell_type": "code",
   "execution_count": 2,
   "id": "12866966",
   "metadata": {},
   "outputs": [
    {
     "data": {
      "text/plain": [
       "['alt.atheism',\n",
       " 'comp.graphics',\n",
       " 'comp.os.ms-windows.misc',\n",
       " 'comp.sys.ibm.pc.hardware',\n",
       " 'comp.sys.mac.hardware',\n",
       " 'comp.windows.x',\n",
       " 'misc.forsale',\n",
       " 'rec.autos',\n",
       " 'rec.motorcycles',\n",
       " 'rec.sport.baseball',\n",
       " 'rec.sport.hockey',\n",
       " 'sci.crypt',\n",
       " 'sci.electronics',\n",
       " 'sci.med',\n",
       " 'sci.space',\n",
       " 'soc.religion.christian',\n",
       " 'talk.politics.guns',\n",
       " 'talk.politics.mideast',\n",
       " 'talk.politics.misc',\n",
       " 'talk.religion.misc']"
      ]
     },
     "execution_count": 2,
     "metadata": {},
     "output_type": "execute_result"
    }
   ],
   "source": [
    "newsgroups = fetch_20newsgroups()\n",
    "newsgroups['target_names']"
   ]
  },
  {
   "cell_type": "code",
   "execution_count": 3,
   "id": "44d1e656",
   "metadata": {},
   "outputs": [
    {
     "name": "stdout",
     "output_type": "stream",
     "text": [
      "-----\n",
      "rec.autos\n",
      "-----\n",
      "From: lerxst@wam.umd.edu (where's my thing)\n",
      "Subject: WHAT car is this!?\n",
      "Nntp-Posting-Host: rac3.wam.umd.edu\n",
      "Organization: University of Maryland, College Park\n",
      "Lines: 15\n",
      "\n",
      " I was wondering if anyone out there could enlighten me on this car I saw\n",
      "the other day. It was a 2-door sports car, looked to be from the late 60s/\n",
      "early 70s. It was called a Bricklin. The doors were really small. In addition,\n",
      "the front bumper was separate from the rest of the body. This is \n",
      "all I know. If anyone can tellme a model name, engine specs, years\n",
      "of production, where this car is made, history, or whatever info you\n",
      "have on this funky looking car, please e-mail.\n",
      "\n",
      "Thanks,\n",
      "- IL\n",
      "   ---- brought to you by your neighborhood Lerxst ----\n",
      "----\n"
     ]
    }
   ],
   "source": [
    "text = newsgroups[\"data\"][0]\n",
    "target = newsgroups[\"target_names\"][newsgroups[\"target\"][0]]\n",
    "\n",
    "print(\"-----\")\n",
    "print(target)\n",
    "print(\"-----\")\n",
    "print(text.strip())\n",
    "print(\"----\")"
   ]
  },
  {
   "cell_type": "code",
   "execution_count": 4,
   "id": "f03c1fe2",
   "metadata": {},
   "outputs": [
    {
     "data": {
      "text/plain": [
       "'1 |text from lerxst wam umd edu where thing subject what car this nntp posting host rac3 wam umd edu organization university maryland college park lines was wondering anyone out there could enlighten this car saw the other day was door sports car looked from the late 60s early 70s was called bricklin the doors were really small addition the front bumper was separate from the rest the body this all know anyone can tellme model name engine specs years production where this car made history whatever info you have this funky looking car please mail thanks brought you your neighborhood lerxst\\n'"
      ]
     },
     "execution_count": 4,
     "metadata": {},
     "output_type": "execute_result"
    }
   ],
   "source": [
    "def to_vw_format(document, label=None):\n",
    "    return (\n",
    "        str(label or \"\")\n",
    "        + \" |text \"\n",
    "        + \" \".join(re.findall(\"\\w{3,}\", document.lower()))\n",
    "        + \"\\n\"\n",
    "    )\n",
    "\n",
    "\n",
    "to_vw_format(text, 1 if target == \"rec.autos\" else -1)"
   ]
  },
  {
   "cell_type": "code",
   "execution_count": 5,
   "id": "9c8e0a0f",
   "metadata": {},
   "outputs": [],
   "source": [
    "all_documents = newsgroups[\"data\"]\n",
    "all_targets = [\n",
    "    1 if newsgroups[\"target_names\"][target] == \"rec.autos\" else -1\n",
    "    for target in newsgroups[\"target\"]\n",
    "]"
   ]
  },
  {
   "cell_type": "code",
   "execution_count": 6,
   "id": "f025a33e",
   "metadata": {},
   "outputs": [],
   "source": [
    "train_documents, test_documents, train_labels, test_labels = train_test_split(\n",
    "    all_documents, all_targets, random_state=7\n",
    ")\n",
    "\n",
    "with open(os.path.join(\"20news_train.vw\"), \"w\") as vw_train_data:\n",
    "    for text, target in zip(train_documents, train_labels):\n",
    "        vw_train_data.write(to_vw_format(text, target))\n",
    "with open(os.path.join(\"20news_test.vw\"), \"w\") as vw_test_data:\n",
    "    for text in test_documents:\n",
    "        vw_test_data.write(to_vw_format(text))"
   ]
  },
  {
   "cell_type": "code",
   "execution_count": 7,
   "id": "12641e2f",
   "metadata": {},
   "outputs": [
    {
     "name": "stdout",
     "output_type": "stream",
     "text": [
      "final_regressor = news_model.vw\n",
      "using no cache\n",
      "Reading datafile = 20news_train.vw\n",
      "num sources = 1\n",
      "Num weight bits = 18\n",
      "learning rate = 0.5\n",
      "initial_t = 0\n",
      "power_t = 0.5\n",
      "Enabled learners: gd, scorer-identity, count_label\n",
      "Input label = SIMPLE\n",
      "Output pred = SCALAR\n",
      "average  since         example        example        current        current  current\n",
      "loss     last          counter         weight          label        predict features\n",
      "1.000000 1.000000            1            1.0        -1.0000         0.0000      157\n",
      "0.911277 0.822554            2            2.0        -1.0000        -0.1774      159\n",
      "0.605794 0.300311            4            4.0        -1.0000        -0.3994       92\n",
      "0.419598 0.233402            8            8.0        -1.0000        -0.8167      129\n",
      "0.314001 0.208404           16           16.0        -1.0000        -0.6509      108\n",
      "0.196016 0.078030           32           32.0        -1.0000        -1.0000      115\n",
      "0.183160 0.170304           64           64.0        -1.0000        -0.7072      114\n",
      "0.261046 0.338932          128          128.0         1.0000        -0.7900      110\n",
      "0.262909 0.264772          256          256.0        -1.0000        -0.6425       44\n",
      "0.216664 0.170419          512          512.0        -1.0000        -1.0000      160\n",
      "0.176712 0.136760         1024         1024.0        -1.0000        -1.0000      194\n",
      "0.134543 0.092374         2048         2048.0        -1.0000        -1.0000      438\n",
      "0.104405 0.074267         4096         4096.0        -1.0000        -1.0000      644\n",
      "0.081330 0.058255         8192         8192.0        -1.0000        -1.0000      174\n",
      "\n",
      "finished run\n",
      "number of examples = 8485\n",
      "weighted example sum = 8485.000000\n",
      "weighted label sum = -7555.000000\n",
      "average loss = 0.079838\n",
      "best constant = -1.000000\n",
      "best constant's loss = 0.109605\n",
      "total feature number = 2048932\n"
     ]
    }
   ],
   "source": [
    "!vw -d $'20news_train.vw' --loss_function hinge -f $20news_model.vw"
   ]
  },
  {
   "cell_type": "code",
   "execution_count": 8,
   "id": "79c82dbd",
   "metadata": {},
   "outputs": [
    {
     "name": "stdout",
     "output_type": "stream",
     "text": [
      "only testing\n",
      "predictions = news_test_predictions.txt\n",
      "using no cache\n",
      "Reading datafile = 20news_test.vw\n",
      "num sources = 1\n",
      "Num weight bits = 18\n",
      "learning rate = 0.5\n",
      "initial_t = 8485\n",
      "power_t = 0.5\n",
      "Enabled learners: gd, scorer-identity, count_label\n",
      "Input label = SIMPLE\n",
      "Output pred = SCALAR\n",
      "average  since         example        example        current        current  current\n",
      "loss     last          counter         weight          label        predict features\n",
      "n.a.     n.a.                1            1.0        unknown         1.0000      349\n",
      "n.a.     n.a.                2            2.0        unknown        -1.0000       50\n",
      "n.a.     n.a.                4            4.0        unknown        -1.0000      251\n",
      "n.a.     n.a.                8            8.0        unknown        -1.0000      237\n",
      "n.a.     n.a.               16           16.0        unknown        -0.8977      106\n",
      "n.a.     n.a.               32           32.0        unknown        -1.0000      964\n",
      "n.a.     n.a.               64           64.0        unknown        -1.0000      261\n",
      "n.a.     n.a.              128          128.0        unknown         0.4623       82\n",
      "n.a.     n.a.              256          256.0        unknown        -1.0000      186\n",
      "n.a.     n.a.              512          512.0        unknown        -1.0000      162\n",
      "n.a.     n.a.             1024         1024.0        unknown        -1.0000      283\n",
      "n.a.     n.a.             2048         2048.0        unknown        -1.0000      104\n",
      "\n",
      "finished run\n",
      "number of examples = 2829\n",
      "weighted example sum = 2829.000000\n",
      "weighted label sum = 0.000000\n",
      "average loss = n.a.\n",
      "total feature number = 642214\n"
     ]
    }
   ],
   "source": [
    "!vw -i $20news_model.vw -t -d $'20news_test.vw' -p $20news_test_predictions.txt"
   ]
  },
  {
   "cell_type": "code",
   "execution_count": 9,
   "id": "758bda66",
   "metadata": {},
   "outputs": [
    {
     "data": {
      "image/png": "[encoded data removed]",
      "text/plain": [
       "<Figure size 640x480 with 1 Axes>"
      ]
     },
     "metadata": {},
     "output_type": "display_data"
    }
   ],
   "source": [
    "with open(os.path.join(\"news_test_predictions.txt\")) as pred_file:\n",
    "    test_prediction = [float(label) for label in pred_file.readlines()]\n",
    "\n",
    "auc = roc_auc_score(test_labels, test_prediction)\n",
    "roc_curve = roc_curve(test_labels, test_prediction)\n",
    "\n",
    "\n",
    "plt.plot(roc_curve[0], roc_curve[1])\n",
    "plt.plot([0, 1], [0, 1])\n",
    "plt.xlabel(\"FPR\")\n",
    "plt.ylabel(\"TPR\")\n",
    "plt.title(\"test AUC = %f\" % (auc))\n",
    "plt.axis([-0.05, 1.05, -0.05, 1.05]);"
   ]
  },
  {
   "cell_type": "code",
   "execution_count": 12,
   "id": "5b970b92",
   "metadata": {},
   "outputs": [],
   "source": [
    "all_documents = newsgroups[\"data\"]\n",
    "topic_encoder = LabelEncoder()\n",
    "all_targets_mult = topic_encoder.fit_transform(newsgroups[\"target\"]) + 1"
   ]
  },
  {
   "cell_type": "code",
   "execution_count": 13,
   "id": "fd983012",
   "metadata": {},
   "outputs": [],
   "source": [
    "train_documents, test_documents, train_labels_mult, test_labels_mult = train_test_split(\n",
    "    all_documents, all_targets_mult, random_state=7\n",
    ")\n",
    "\n",
    "with open(os.path.join(\"20news_train_mult.vw\"), \"w\") as vw_train_data:\n",
    "    for text, target in zip(train_documents, train_labels_mult):\n",
    "        vw_train_data.write(to_vw_format(text, target))\n",
    "with open(os.path.join(\"20news_test_mult.vw\"), \"w\") as vw_test_data:\n",
    "    for text in test_documents:\n",
    "        vw_test_data.write(to_vw_format(text))"
   ]
  },
  {
   "cell_type": "code",
   "execution_count": 19,
   "id": "36f147d5",
   "metadata": {},
   "outputs": [
    {
     "name": "stdout",
     "output_type": "stream",
     "text": [
      "final_regressor = 20news_model_mult.vw\n",
      "using no cache\n",
      "Reading datafile = 20news_train_mult.vw\n",
      "num sources = 1\n",
      "Num weight bits = 18\n",
      "learning rate = 0.5\n",
      "initial_t = 0\n",
      "power_t = 0.5\n",
      "Enabled learners: gd, scorer-identity, oaa\n",
      "Input label = MULTICLASS\n",
      "Output pred = MULTICLASS\n",
      "average  since         example        example        current        current  current\n",
      "loss     last          counter         weight          label        predict features\n",
      "1.000000 1.000000            1            1.0             15              1      157\n",
      "1.000000 1.000000            2            2.0              2             15      159\n",
      "1.000000 1.000000            4            4.0             15             10       92\n",
      "1.000000 1.000000            8            8.0             16             15      129\n",
      "1.000000 1.000000           16           16.0             13             12      108\n",
      "\u001b[32m[info]\u001b[m label 20 found -- labels are now considered 1-indexed.\n",
      "0.937500 0.875000           32           32.0              2              9      115\n",
      "0.906250 0.875000           64           64.0             16             16      114\n",
      "0.867188 0.828125          128          128.0              8              4      110\n",
      "0.812500 0.757812          256          256.0              7             15       44\n",
      "0.646484 0.480469          512          512.0             13              9      160\n",
      "0.504883 0.363281         1024         1024.0              3              4      194\n",
      "0.389160 0.273438         2048         2048.0              1              1      438\n",
      "0.299561 0.209961         4096         4096.0             11             11      644\n",
      "0.224609 0.149658         8192         8192.0              5              5      174\n",
      "\n",
      "finished run\n",
      "number of examples = 8485\n",
      "weighted example sum = 8485.000000\n",
      "weighted label sum = 0.000000\n",
      "average loss = 0.221921\n",
      "total feature number = 2048932\n"
     ]
    }
   ],
   "source": [
    "!vw --oaa 20 $'20news_train_mult.vw' -f $'20news_model_mult.vw' --loss_function=hinge"
   ]
  },
  {
   "cell_type": "code",
   "execution_count": 21,
   "id": "2f99c400",
   "metadata": {},
   "outputs": [
    {
     "name": "stdout",
     "output_type": "stream",
     "text": [
      "only testing\n",
      "predictions = 20news_test_predictions_mult.txt\n",
      "using no cache\n",
      "Reading datafile = 20news_test_mult.vw\n",
      "num sources = 1\n",
      "Num weight bits = 18\n",
      "learning rate = 0.5\n",
      "initial_t = 8485\n",
      "power_t = 0.5\n",
      "Enabled learners: gd, scorer-identity, oaa\n",
      "Input label = MULTICLASS\n",
      "Output pred = MULTICLASS\n",
      "average  since         example        example        current        current  current\n",
      "loss     last          counter         weight          label        predict features\n",
      "n.a.     n.a.                1            1.0        unknown              8      349\n",
      "n.a.     n.a.                2            2.0        unknown              6       50\n",
      "n.a.     n.a.                4            4.0        unknown             18      251\n",
      "n.a.     n.a.                8            8.0        unknown             18      237\n",
      "n.a.     n.a.               16           16.0        unknown              4      106\n",
      "n.a.     n.a.               32           32.0        unknown             15      964\n",
      "n.a.     n.a.               64           64.0        unknown              4      261\n",
      "n.a.     n.a.              128          128.0        unknown              8       82\n",
      "n.a.     n.a.              256          256.0        unknown             10      186\n",
      "n.a.     n.a.              512          512.0        unknown              1      162\n",
      "n.a.     n.a.             1024         1024.0        unknown             11      283\n",
      "n.a.     n.a.             2048         2048.0        unknown             14      104\n",
      "\n",
      "finished run\n",
      "number of examples = 2829\n",
      "weighted example sum = 2829.000000\n",
      "weighted label sum = 0.000000\n",
      "average loss = n.a.\n",
      "total feature number = 642214\n"
     ]
    }
   ],
   "source": [
    "!vw -i $'20news_model_mult.vw' -t -d $'20news_test_mult.vw' -p $'20news_test_predictions_mult.txt'"
   ]
  },
  {
   "cell_type": "code",
   "execution_count": 22,
   "id": "5d109d45",
   "metadata": {},
   "outputs": [],
   "source": [
    "with open(\n",
    "    os.path.join(\"20news_test_predictions_mult.txt\")\n",
    ") as pred_file:\n",
    "    test_prediction_mult = [float(label) for label in pred_file.readlines()]"
   ]
  },
  {
   "cell_type": "code",
   "execution_count": 24,
   "id": "6e710dd3",
   "metadata": {},
   "outputs": [
    {
     "data": {
      "text/plain": [
       "0.8723930717568045"
      ]
     },
     "execution_count": 24,
     "metadata": {},
     "output_type": "execute_result"
    }
   ],
   "source": [
    "accuracy_score(test_labels_mult, test_prediction_mult)"
   ]
  },
  {
   "cell_type": "code",
   "execution_count": 27,
   "id": "7deeee99",
   "metadata": {},
   "outputs": [
    {
     "name": "stdout",
     "output_type": "stream",
     "text": [
      "rec.autos 1\n",
      "rec.sport.baseball 1\n",
      "sci.med 1\n",
      "soc.religion.christian 2\n",
      "talk.religion.misc 6\n"
     ]
    }
   ],
   "source": [
    "M = confusion_matrix(test_labels_mult, test_prediction_mult)\n",
    "for i in np.where(M[0, :] > 0)[0][1:]:\n",
    "    print(newsgroups[\"target_names\"][i], M[0, i])"
   ]
  },
  {
   "cell_type": "code",
   "execution_count": null,
   "id": "a3c590e2",
   "metadata": {},
   "outputs": [],
   "source": []
  }
 ],
 "metadata": {
  "kernelspec": {
   "display_name": "misc-rmay8iVW-py3.10",
   "language": "python",
   "name": "python3"
  },
  "language_info": {
   "codemirror_mode": {
    "name": "ipython",
    "version": 3
   },
   "file_extension": ".py",
   "mimetype": "text/x-python",
   "name": "python",
   "nbconvert_exporter": "python",
   "pygments_lexer": "ipython3",
   "version": "3.10.17"
  }
 },
 "nbformat": 4,
 "nbformat_minor": 5
}
